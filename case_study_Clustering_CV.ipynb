{
 "cells": [
  {
   "cell_type": "markdown",
   "metadata": {},
   "source": [
    "# Case Study\n",
    "\n",
    "#### Model selection for Clustering\n",
    "\n",
    "Clustering is unsupervised learning: the resulting clusters are completely derived from data distributed in given a feature set with no class available\n",
    "\n",
    "Compared to supervised learning counterparts, it is …\n",
    "* hard to define model performance (cluster quality)\n",
    "* sensitive to different clustering algorithms and different feature spaces.\n",
    "\n",
    "\n",
    "\n",
    "#### Task\n",
    "The aim is to try K-means and Agglomerative clustering algorithms and a range of the potential parameter(s) which affect the number of clusters on 5K colorectal patches represented by two different representations: **PathologyGAN** and **ResNet50**\n",
    "\n",
    "* K-means\n",
    "https://scikit-learn.org/stable/modules/generated/sklearn.cluster.KMeans.html\n",
    "* Hierarchical Clustering, \n",
    "https://scikit-learn.org/stable/modules/generated/sklearn.cluster.AgglomerativeClustering.html#sklearn.cluster.AgglomerativeClustering\n",
    "\n",
    "\n",
    "\n",
    "#### Data and its preprocessing \n",
    "5,000 non-overlapping image patches from hematoxylin & eosin (H&E) stained histological images of human colorectal cancer (CRC) and normal tissue.\n",
    "* 2 feature sets, PathologyGAN and ResNet50 are extracted to represent those 5,000 images different dimensional feature spaces.\n",
    "* PCA and UMAP were employed to reduce each feature sapce into 100-dimensional vectors\n",
    "\n",
    "* 9 tissue types are also available which include Adipose (ADI), background (BACK), debris (DEB), lymphocytes (LYM), mucus (MUC), smooth muscle (MUS), normal colon mucosa (NORM), cancer-associated stroma (STR), colorectal adenocarcinoma epithelium (TUM)\n",
    "\n",
    "\n",
    "#### Performance Measurement\n",
    "To assess quality of clustering solutions, the following measurements were imployed:\n",
    "* Silhouette Score for goodness of fit test\n",
    "* Vmeasure Score for homogeneity and completeness test (tissue type available as ground truth)\n",
    "* Clusters visualisations"
   ]
  },
  {
   "cell_type": "markdown",
   "metadata": {},
   "source": [
    "#### Required Packages"
   ]
  },
  {
   "cell_type": "code",
   "execution_count": 4,
   "metadata": {},
   "outputs": [],
   "source": [
    "# !pip install h5py==2.10.0\n",
    "# !pip install numpy\n",
    "# !pip install pandas\n",
    "# !pip install sklearn\n",
    "# !pip install --user scikit-network\n",
    "# !pip install pickle-mixin==1.0.2\n",
    "# !pip install matplotlib\n",
    "# !pip install plotly"
   ]
  },
  {
   "cell_type": "markdown",
   "metadata": {},
   "source": [
    "### Prepare Tissue Representations"
   ]
  },
  {
   "cell_type": "code",
   "execution_count": 2,
   "metadata": {},
   "outputs": [],
   "source": [
    "import h5py\n",
    "import numpy as np\n",
    "import pickle\n",
    "import pandas as pd"
   ]
  },
  {
   "cell_type": "code",
   "execution_count": 3,
   "metadata": {},
   "outputs": [],
   "source": [
    "pge_path = 'colon_nct_feature/pge_dim_reduced_feature.h5'\n",
    "resnet50_path = 'colon_nct_feature/resnet50_dim_reduced_feature.h5'\n",
    "inceptionv3_path = 'colon_nct_feature/inceptionv3_dim_reduced_feature.h5'\n",
    "vgg16_path = 'colon_nct_feature/vgg16_dim_reduced_feature.h5'\n",
    "\n",
    "pge_content = h5py.File(pge_path, mode='r')\n",
    "resnet50_content = h5py.File(resnet50_path, mode='r')\n",
    "inceptionv3_content = h5py.File(inceptionv3_path, mode='r')\n",
    "vgg16_content = h5py.File(vgg16_path, mode='r')\n"
   ]
  },
  {
   "cell_type": "code",
   "execution_count": 4,
   "metadata": {},
   "outputs": [],
   "source": [
    "#PCA feature from 4 feature sets: pge_latent, resnet50_latent, inceptionv3_latent, vgg16_latent\n",
    "pge_pca_feature  = pge_content['pca_feature'][...]\n",
    "resnet50_pca_feature  = resnet50_content['pca_feature'][...]\n",
    "inceptionv3_pca_feature = inceptionv3_content['pca_feature'][...]\n",
    "vgg16_pca_feature  = vgg16_content['pca_feature'][...]\n",
    "\n",
    "pge_pca_feature_df = pd.DataFrame(pge_pca_feature)\n",
    "resnet_50_pca_feature_df = pd.DataFrame(resnet50_pca_feature) \n",
    "#inceptionv3_pca_feature_df = df.DataFrame(inceptionv3_pca_feature)\n",
    "vgg16_pca_feature_df = pd.DataFrame(vgg16_pca_feature)\n"
   ]
  },
  {
   "cell_type": "code",
   "execution_count": 5,
   "metadata": {},
   "outputs": [],
   "source": [
    "#UMAP feature from 4 feature sets: pge_latent, resnet50_latent, inceptionv3_latent, vgg16_latent\n",
    "pge_umap_feature  = pge_content['umap_feature'][...]\n",
    "resnet50_umap_feature = resnet50_content['umap_feature'][...]\n",
    "inceptionv3_umap_feature  = inceptionv3_content['umap_feature'][...]\n",
    "vgg16_umap_feature  = vgg16_content['umap_feature'][...]"
   ]
  },
  {
   "cell_type": "code",
   "execution_count": 6,
   "metadata": {},
   "outputs": [
    {
     "name": "stdout",
     "output_type": "stream",
     "text": [
      "['coad_nct_images/NCT-CRC-HE-100K/ADI/ADI-AAGQKKEG.tif'\n",
      " 'coad_nct_images/NCT-CRC-HE-100K/ADI/ADI-AAVHMEVH.tif'\n",
      " 'coad_nct_images/NCT-CRC-HE-100K/ADI/ADI-AAVISFAG.tif' ...\n",
      " 'coad_nct_images/NCT-CRC-HE-100K/TUM/TUM-YWVCKIIG.tif'\n",
      " 'coad_nct_images/NCT-CRC-HE-100K/TUM/TUM-YYGPFNTH.tif'\n",
      " 'coad_nct_images/NCT-CRC-HE-100K/TUM/TUM-YYRCFCFC.tif']\n",
      "['ADI' 'ADI' 'ADI' ... 'TUM' 'TUM' 'TUM']\n"
     ]
    }
   ],
   "source": [
    "#tissue type as available ground-truth: labels\n",
    "filename  = np.squeeze(pge_content['file_name'])\n",
    "print(filename)\n",
    "labels = np.array([x.split('/')[2] for x in filename])\n",
    "print(labels)"
   ]
  },
  {
   "cell_type": "markdown",
   "metadata": {},
   "source": [
    "# Case Study "
   ]
  },
  {
   "cell_type": "markdown",
   "metadata": {},
   "source": [
    "# Preparing the dataset for both PGE and Resnet50"
   ]
  },
  {
   "cell_type": "code",
   "execution_count": 24,
   "metadata": {},
   "outputs": [],
   "source": [
    "#PCA feature from 2 feature sets: pge_latent, resnet50_latent\n",
    "pge_pca_feature  = pge_content['pca_feature'][...]\n",
    "resnet50_pca_feature  = resnet50_content['pca_feature'][...]\n",
    "\n",
    "#UMAP feature from 2 feature sets: pge_latent, resnet50_latent\n",
    "pge_umap_feature  = pge_content['umap_feature'][...]\n",
    "resnet50_umap_feature = resnet50_content['umap_feature'][...]\n",
    "\n",
    "#test data PGE\n",
    "test_data_1 = pge_pca_feature\n",
    "test_data_1_2 = pge_umap_feature\n",
    "#labels\n",
    "filename  = np.squeeze(pge_content['file_name'])\n",
    "labels_pge = np.array([x.split('/')[2] for x in filename])\n",
    "\n",
    "#test data ResNet50\n",
    "test_data_2 = resnet50_pca_feature\n",
    "test_data_2_2 = resnet50_umap_feature\n",
    "#labels\n",
    "filename  = np.squeeze(resnet50_content['file_name'])\n",
    "labels_resnet = np.array([x.split('/')[2] for x in filename])"
   ]
  },
  {
   "cell_type": "markdown",
   "metadata": {},
   "source": [
    "## Part 1: K-Means Clustering"
   ]
  },
  {
   "cell_type": "markdown",
   "metadata": {},
   "source": [
    "### Training the model using N=2...50 to find the optimal number of cluster using the Elbow method."
   ]
  },
  {
   "cell_type": "code",
   "execution_count": 25,
   "metadata": {},
   "outputs": [],
   "source": [
    "from sklearn.cluster import KMeans\n",
    "\n",
    "Sum_of_squared_distances_pca_pge = []\n",
    "Sum_of_squared_distances_umap_pge = []\n",
    "Sum_of_squared_distances_pca_resnet = []\n",
    "Sum_of_squared_distances_umap_resnet = []\n",
    "\n",
    "K = list(range(2,50))"
   ]
  },
  {
   "cell_type": "code",
   "execution_count": 26,
   "metadata": {},
   "outputs": [
    {
     "data": {
      "image/png": "[encoded data removed]",
      "text/plain": [
       "<Figure size 432x288 with 1 Axes>"
      ]
     },
     "metadata": {
      "needs_background": "light"
     },
     "output_type": "display_data"
    }
   ],
   "source": [
    "for k in K:\n",
    "    km = KMeans(n_clusters=k)\n",
    "    km_pca_pge = km.fit(test_data_1)\n",
    "    Sum_of_squared_distances_pca_pge.append(km_pca_pge.inertia_)\n",
    "    \n",
    "plt.plot(K, Sum_of_squared_distances_pca_pge, 'bo-')\n",
    "plt.xlabel('k')\n",
    "plt.ylabel('Sum_of_squared_distances PCA')\n",
    "plt.title('Elbow Method For Optimal k using PGE')\n",
    "plt.show()"
   ]
  },
  {
   "cell_type": "code",
   "execution_count": 27,
   "metadata": {},
   "outputs": [
    {
     "data": {
      "image/png": "[encoded data removed]",
      "text/plain": [
       "<Figure size 432x288 with 1 Axes>"
      ]
     },
     "metadata": {
      "needs_background": "light"
     },
     "output_type": "display_data"
    }
   ],
   "source": [
    "for k in K:\n",
    "    km = KMeans(n_clusters=k)\n",
    "    km_umap_pge = km.fit(test_data_1_2)\n",
    "    Sum_of_squared_distances_umap_pge.append(km_umap_pge.inertia_)\n",
    "\n",
    "plt.plot(K, Sum_of_squared_distances_umap_pge, 'bo-')\n",
    "plt.xlabel('k')\n",
    "plt.ylabel('Sum_of_squared_distances UMAP')\n",
    "plt.title('Elbow Method For Optimal k using PGE')\n",
    "plt.show()"
   ]
  },
  {
   "cell_type": "code",
   "execution_count": 28,
   "metadata": {},
   "outputs": [
    {
     "data": {
      "image/png": "[encoded data removed]",
      "text/plain": [
       "<Figure size 432x288 with 1 Axes>"
      ]
     },
     "metadata": {
      "needs_background": "light"
     },
     "output_type": "display_data"
    }
   ],
   "source": [
    "for k in K:\n",
    "    km = KMeans(n_clusters=k)\n",
    "    km_pca_resnet = km.fit(test_data_2)\n",
    "    Sum_of_squared_distances_pca_resnet.append(km_pca_resnet.inertia_)\n",
    "    \n",
    "plt.plot(K, Sum_of_squared_distances_pca_resnet, 'bo-')\n",
    "plt.xlabel('k')\n",
    "plt.ylabel('Sum_of_squared_distances PCA')\n",
    "plt.title('Elbow Method For Optimal k using ResNet50')\n",
    "plt.show()"
   ]
  },
  {
   "cell_type": "code",
   "execution_count": 29,
   "metadata": {},
   "outputs": [
    {
     "data": {
      "image/png": "[encoded data removed]",
      "text/plain": [
       "<Figure size 432x288 with 1 Axes>"
      ]
     },
     "metadata": {
      "needs_background": "light"
     },
     "output_type": "display_data"
    }
   ],
   "source": [
    "for k in K:\n",
    "    km = KMeans(n_clusters=k)\n",
    "    km_umap_resnet = km.fit(test_data_2_2)\n",
    "    Sum_of_squared_distances_umap_resnet.append(km_umap_resnet.inertia_)\n",
    "\n",
    "plt.plot(K, Sum_of_squared_distances_umap_resnet, 'bo-')\n",
    "plt.xlabel('k')\n",
    "plt.ylabel('Sum_of_squared_distances UMAP')\n",
    "plt.title('Elbow Method For Optimal k using ResNet50')\n",
    "plt.show()"
   ]
  },
  {
   "cell_type": "markdown",
   "metadata": {},
   "source": [
    "## Evaluation and Visualizing"
   ]
  },
  {
   "cell_type": "markdown",
   "metadata": {},
   "source": [
    "### We can observe from the above graphs that it is difficult to derive the exact k value using only the Elbow method from the curve. Hence, to get a better measurement, we are also calculating the silhouette score and v-measure to obtain the best k-value for both the feature sets."
   ]
  },
  {
   "cell_type": "markdown",
   "metadata": {},
   "source": [
    "### Assuming the ground truth labels are not present, we are finding the 'k' using sillhouete score to find which 'k' perfectly fits the data."
   ]
  },
  {
   "cell_type": "code",
   "execution_count": 30,
   "metadata": {},
   "outputs": [],
   "source": [
    "silhouette_scores_pca_pge = []\n",
    "silhouette_scores_umap_pge = []\n",
    "silhouette_scores_pca_resnet = []\n",
    "silhouette_scores_umap_resnet = []"
   ]
  },
  {
   "cell_type": "code",
   "execution_count": 31,
   "metadata": {},
   "outputs": [
    {
     "name": "stdout",
     "output_type": "stream",
     "text": [
      "Best k for PGE feature set using PCA: 2\n"
     ]
    },
    {
     "data": {
      "image/png": "[encoded data removed]",
      "text/plain": [
       "<Figure size 432x288 with 1 Axes>"
      ]
     },
     "metadata": {
      "needs_background": "light"
     },
     "output_type": "display_data"
    }
   ],
   "source": [
    "for k in K:\n",
    "    kmeans_model_pge = KMeans(n_clusters = k, random_state = 0) \n",
    "    kmeans_assignment_pca_pge = kmeans_model_pge.fit_predict(test_data_1)\n",
    "    \n",
    "    kmeans_silhouette_pge = silhouette_score(test_data_1, kmeans_assignment_pca_pge)\n",
    "    silhouette_scores_pca_pge.append(kmeans_silhouette_pge)\n",
    "\n",
    "print(\"Best k for PGE feature set using PCA:\",silhouette_scores_pca_pge.index(max(silhouette_scores_pca_pge))+2)\n",
    "\n",
    "plt.plot(K, silhouette_scores_pca_pge, 'bo-')\n",
    "plt.xlabel('k')\n",
    "plt.ylabel('Sillhouette Scores PCA')\n",
    "plt.title('For Optimal k using PGE')\n",
    "plt.show()"
   ]
  },
  {
   "cell_type": "code",
   "execution_count": 32,
   "metadata": {},
   "outputs": [
    {
     "name": "stdout",
     "output_type": "stream",
     "text": [
      "Best k for PGE feature set using UMAP: 7\n"
     ]
    },
    {
     "data": {
      "image/png": "[encoded data removed]",
      "text/plain": [
       "<Figure size 432x288 with 1 Axes>"
      ]
     },
     "metadata": {
      "needs_background": "light"
     },
     "output_type": "display_data"
    }
   ],
   "source": [
    "for k in K:\n",
    "    kmeans_model_pge = KMeans(n_clusters = k, random_state = 0) \n",
    "    kmeans_assignment_umap_pge = kmeans_model_pge.fit_predict(test_data_1_2)\n",
    "    \n",
    "    kmeans_silhouette_pge = silhouette_score(test_data_1_2, kmeans_assignment_umap_pge)\n",
    "    silhouette_scores_umap_pge.append(kmeans_silhouette_pge)\n",
    "\n",
    "print(\"Best k for PGE feature set using UMAP:\",silhouette_scores_umap_pge.index(max(silhouette_scores_umap_pge))+2)\n",
    "\n",
    "plt.plot(K, silhouette_scores_umap_pge, 'bo-')\n",
    "plt.xlabel('k')\n",
    "plt.ylabel('Sillhouette Scores UMAP')\n",
    "plt.title('For Optimal k using PGE')\n",
    "plt.show()"
   ]
  },
  {
   "cell_type": "code",
   "execution_count": 33,
   "metadata": {},
   "outputs": [
    {
     "name": "stdout",
     "output_type": "stream",
     "text": [
      "Best k for ResNet50 feature set using PCA: 4\n"
     ]
    },
    {
     "data": {
      "image/png": "[encoded data removed]",
      "text/plain": [
       "<Figure size 432x288 with 1 Axes>"
      ]
     },
     "metadata": {
      "needs_background": "light"
     },
     "output_type": "display_data"
    }
   ],
   "source": [
    "for k in K:\n",
    "    kmeans_model_resnet = KMeans(n_clusters = k, random_state = 0) \n",
    "    kmeans_assignment_pca_resnet = kmeans_model_resnet.fit_predict(test_data_2)\n",
    "    \n",
    "    kmeans_silhouette_resnet = silhouette_score(test_data_2, kmeans_assignment_pca_resnet)\n",
    "    silhouette_scores_pca_resnet.append(kmeans_silhouette_resnet)\n",
    "\n",
    "print(\"Best k for ResNet50 feature set using PCA:\",silhouette_scores_pca_resnet.index(max(silhouette_scores_pca_resnet))+2)\n",
    "\n",
    "plt.plot(K, silhouette_scores_pca_resnet, 'bo-')\n",
    "plt.xlabel('k')\n",
    "plt.ylabel('Sillhouette Scores PCA')\n",
    "plt.title('For Optimal k using ResNet50')\n",
    "plt.show()"
   ]
  },
  {
   "cell_type": "code",
   "execution_count": 34,
   "metadata": {},
   "outputs": [
    {
     "name": "stdout",
     "output_type": "stream",
     "text": [
      "Best k for ResNet50 feature set using UMAP: 21\n"
     ]
    },
    {
     "data": {
      "image/png": "[encoded data removed]",
      "text/plain": [
       "<Figure size 432x288 with 1 Axes>"
      ]
     },
     "metadata": {
      "needs_background": "light"
     },
     "output_type": "display_data"
    }
   ],
   "source": [
    "for k in K:\n",
    "    kmeans_model_resnet = KMeans(n_clusters = k, random_state = 0) \n",
    "    kmeans_assignment_umap_resnet = kmeans_model_resnet.fit_predict(test_data_2_2)\n",
    "    \n",
    "    kmeans_silhouette_resnet = silhouette_score(test_data_2_2, kmeans_assignment_umap_resnet)\n",
    "    silhouette_scores_umap_resnet.append(kmeans_silhouette_resnet)\n",
    "\n",
    "print(\"Best k for ResNet50 feature set using UMAP:\",silhouette_scores_umap_resnet.index(max(silhouette_scores_umap_resnet))+2)\n",
    "\n",
    "plt.plot(K, silhouette_scores_umap_resnet, 'bo-')\n",
    "plt.xlabel('k')\n",
    "plt.ylabel('Sillhouette Scores UMAP')\n",
    "plt.title('For Optimal k using ResNet50')\n",
    "plt.show()"
   ]
  },
  {
   "cell_type": "markdown",
   "metadata": {},
   "source": [
    "### Considering that we have the ground truth labels present, we are obtaining the optimal 'k' using V-Measure to determine the 'k' having the correct cluster quality."
   ]
  },
  {
   "cell_type": "code",
   "execution_count": 35,
   "metadata": {},
   "outputs": [],
   "source": [
    "v_measure_scores_pca_pge =  []\n",
    "v_measure_scores_umap_pge =  []\n",
    "v_measure_scores_pca_resnet =  []\n",
    "v_measure_scores_umap_resnet =  []"
   ]
  },
  {
   "cell_type": "code",
   "execution_count": 36,
   "metadata": {},
   "outputs": [
    {
     "name": "stdout",
     "output_type": "stream",
     "text": [
      "Best k for PGE feature set: 24\n"
     ]
    },
    {
     "data": {
      "image/png": "[encoded data removed]",
      "text/plain": [
       "<Figure size 432x288 with 1 Axes>"
      ]
     },
     "metadata": {
      "needs_background": "light"
     },
     "output_type": "display_data"
    }
   ],
   "source": [
    "for k in K:\n",
    "    kmeans_model_pge = KMeans(n_clusters = k, random_state = 0) \n",
    "    kmeans_assignment_pca_pge = kmeans_model_pge.fit_predict(test_data_1)\n",
    "    \n",
    "    kmeans_v_measure_pge = v_measure_score(labels_pge, kmeans_assignment_pca_pge)\n",
    "    v_measure_scores_pca_pge.append(kmeans_v_measure_pge)\n",
    "\n",
    "print(\"Best k for PGE feature set:\",v_measure_scores_pca_pge.index(max(v_measure_scores_pca_pge))+2)\n",
    "\n",
    "plt.plot(K, v_measure_scores_pca_pge, 'bo-')\n",
    "plt.xlabel('k')\n",
    "plt.ylabel('V-Measure scores PCA')\n",
    "plt.title('For Optimal k using PGE')\n",
    "plt.show()"
   ]
  },
  {
   "cell_type": "code",
   "execution_count": 37,
   "metadata": {},
   "outputs": [
    {
     "name": "stdout",
     "output_type": "stream",
     "text": [
      "Best k for PGE feature set: 19\n"
     ]
    },
    {
     "data": {
      "image/png": "[encoded data removed]",
      "text/plain": [
       "<Figure size 432x288 with 1 Axes>"
      ]
     },
     "metadata": {
      "needs_background": "light"
     },
     "output_type": "display_data"
    }
   ],
   "source": [
    "for k in K:\n",
    "    kmeans_model_pge = KMeans(n_clusters = k, random_state = 0) \n",
    "    kmeans_assignment_umap_pge = kmeans_model_pge.fit_predict(test_data_1_2)\n",
    "    \n",
    "    kmeans_v_measure_pge = v_measure_score(labels_pge, kmeans_assignment_umap_pge)\n",
    "    v_measure_scores_umap_pge.append(kmeans_v_measure_pge)\n",
    "\n",
    "print(\"Best k for PGE feature set:\",v_measure_scores_umap_pge.index(max(v_measure_scores_umap_pge))+2)\n",
    "\n",
    "plt.plot(K, v_measure_scores_umap_pge, 'bo-')\n",
    "plt.xlabel('k')\n",
    "plt.ylabel('V-Measure scores UMAP')\n",
    "plt.title('For Optimal k using PGE')\n",
    "plt.show()"
   ]
  },
  {
   "cell_type": "code",
   "execution_count": 38,
   "metadata": {},
   "outputs": [
    {
     "name": "stdout",
     "output_type": "stream",
     "text": [
      "Best k for ResNet feature set: 31\n"
     ]
    },
    {
     "data": {
      "image/png": "[encoded data removed]",
      "text/plain": [
       "<Figure size 432x288 with 1 Axes>"
      ]
     },
     "metadata": {
      "needs_background": "light"
     },
     "output_type": "display_data"
    }
   ],
   "source": [
    "for k in K:\n",
    "    kmeans_model_resnet = KMeans(n_clusters = k, random_state = 0) \n",
    "    kmeans_assignment_pca_resnet = kmeans_model_resnet.fit_predict(test_data_2)\n",
    "\n",
    "    kmeans_v_measure_resnet = v_measure_score(labels_resnet, kmeans_assignment_pca_resnet)\n",
    "    v_measure_scores_pca_resnet.append(kmeans_v_measure_resnet)\n",
    "    \n",
    "print(\"Best k for ResNet feature set:\",v_measure_scores_pca_resnet.index(max(v_measure_scores_pca_resnet))+2)\n",
    "\n",
    "plt.plot(K, v_measure_scores_pca_resnet, 'bo-')\n",
    "plt.xlabel('k')\n",
    "plt.ylabel('V-Measure scores PCA')\n",
    "plt.title('For Optimal k using ResNet50')\n",
    "plt.show()"
   ]
  },
  {
   "cell_type": "code",
   "execution_count": 39,
   "metadata": {},
   "outputs": [
    {
     "name": "stdout",
     "output_type": "stream",
     "text": [
      "Best k for ResNet50 feature set: 15\n"
     ]
    },
    {
     "data": {
      "image/png": "[encoded data removed]",
      "text/plain": [
       "<Figure size 432x288 with 1 Axes>"
      ]
     },
     "metadata": {
      "needs_background": "light"
     },
     "output_type": "display_data"
    }
   ],
   "source": [
    "for k in K:\n",
    "    kmeans_model_resnet = KMeans(n_clusters = k, random_state = 0)\n",
    "    kmeans_assignment_umap_resnet = kmeans_model_resnet.fit_predict(test_data_2_2)\n",
    "\n",
    "    kmeans_v_measure_resnet = v_measure_score(labels_resnet, kmeans_assignment_umap_resnet)\n",
    "    v_measure_scores_umap_resnet.append(kmeans_v_measure_resnet)\n",
    "    \n",
    "print(\"Best k for ResNet50 feature set:\",v_measure_scores_umap_resnet.index(max(v_measure_scores_umap_resnet))+2)\n",
    "\n",
    "plt.plot(K, v_measure_scores_umap_resnet, 'bo-')\n",
    "plt.xlabel('k')\n",
    "plt.ylabel('V-Measure scores UMAP')\n",
    "plt.title('For Optimal k using ResNet50')\n",
    "plt.show()"
   ]
  },
  {
   "cell_type": "code",
   "execution_count": 40,
   "metadata": {},
   "outputs": [],
   "source": [
    "best_k_pge_pca_silhouette_score = silhouette_scores_pca_pge.index(max(silhouette_scores_pca_pge))+2\n",
    "best_k_pge_umap_silhouette_score = silhouette_scores_umap_pge.index(max(silhouette_scores_umap_pge))+2\n",
    "best_k_resnet_pca_silhouette_score = silhouette_scores_pca_resnet.index(max(silhouette_scores_pca_resnet))+2\n",
    "best_k_resnet_umap_silhouette_score = silhouette_scores_umap_resnet.index(max(silhouette_scores_umap_resnet))+2\n",
    "\n",
    "best_k_pge_pca_v_measure = v_measure_scores_pca_pge.index(max(v_measure_scores_pca_pge))+2\n",
    "best_k_pge_umap_v_measure = v_measure_scores_umap_pge.index(max(v_measure_scores_umap_pge))+2\n",
    "best_k_resnet_pca_v_measure = v_measure_scores_pca_resnet.index(max(v_measure_scores_pca_resnet))+2\n",
    "best_k_resnet_umap_v_measure = v_measure_scores_umap_resnet.index(max(v_measure_scores_umap_resnet))+2"
   ]
  },
  {
   "cell_type": "markdown",
   "metadata": {},
   "source": [
    "### Below are the member of the cluster for PGE and ResNet50 using PCA projections."
   ]
  },
  {
   "cell_type": "markdown",
   "metadata": {},
   "source": [
    "### Optimal Clusters 'k' using V-Measure:"
   ]
  },
  {
   "cell_type": "code",
   "execution_count": 41,
   "metadata": {},
   "outputs": [
    {
     "name": "stdout",
     "output_type": "stream",
     "text": [
      "Using PCA:\n",
      "Number of clusters from KMeans-PGE: 24 and from KMeans-ResNet: 31\n",
      "Kmeans-PGE_PCA assignment counts\n"
     ]
    },
    {
     "data": {
      "text/html": [
       "<div>\n",
       "<style scoped>\n",
       "    .dataframe tbody tr th:only-of-type {\n",
       "        vertical-align: middle;\n",
       "    }\n",
       "\n",
       "    .dataframe tbody tr th {\n",
       "        vertical-align: top;\n",
       "    }\n",
       "\n",
       "    .dataframe thead th {\n",
       "        text-align: right;\n",
       "    }\n",
       "</style>\n",
       "<table border=\"1\" class=\"dataframe\">\n",
       "  <thead>\n",
       "    <tr style=\"text-align: right;\">\n",
       "      <th></th>\n",
       "      <th>Number of members</th>\n",
       "    </tr>\n",
       "    <tr>\n",
       "      <th>Cluster Index</th>\n",
       "      <th></th>\n",
       "    </tr>\n",
       "  </thead>\n",
       "  <tbody>\n",
       "    <tr>\n",
       "      <th>0</th>\n",
       "      <td>167</td>\n",
       "    </tr>\n",
       "    <tr>\n",
       "      <th>1</th>\n",
       "      <td>302</td>\n",
       "    </tr>\n",
       "    <tr>\n",
       "      <th>2</th>\n",
       "      <td>129</td>\n",
       "    </tr>\n",
       "    <tr>\n",
       "      <th>3</th>\n",
       "      <td>411</td>\n",
       "    </tr>\n",
       "    <tr>\n",
       "      <th>4</th>\n",
       "      <td>122</td>\n",
       "    </tr>\n",
       "    <tr>\n",
       "      <th>5</th>\n",
       "      <td>457</td>\n",
       "    </tr>\n",
       "    <tr>\n",
       "      <th>6</th>\n",
       "      <td>148</td>\n",
       "    </tr>\n",
       "    <tr>\n",
       "      <th>7</th>\n",
       "      <td>236</td>\n",
       "    </tr>\n",
       "    <tr>\n",
       "      <th>8</th>\n",
       "      <td>117</td>\n",
       "    </tr>\n",
       "    <tr>\n",
       "      <th>9</th>\n",
       "      <td>283</td>\n",
       "    </tr>\n",
       "    <tr>\n",
       "      <th>10</th>\n",
       "      <td>173</td>\n",
       "    </tr>\n",
       "    <tr>\n",
       "      <th>11</th>\n",
       "      <td>80</td>\n",
       "    </tr>\n",
       "    <tr>\n",
       "      <th>12</th>\n",
       "      <td>152</td>\n",
       "    </tr>\n",
       "    <tr>\n",
       "      <th>13</th>\n",
       "      <td>357</td>\n",
       "    </tr>\n",
       "    <tr>\n",
       "      <th>14</th>\n",
       "      <td>171</td>\n",
       "    </tr>\n",
       "    <tr>\n",
       "      <th>15</th>\n",
       "      <td>130</td>\n",
       "    </tr>\n",
       "    <tr>\n",
       "      <th>16</th>\n",
       "      <td>217</td>\n",
       "    </tr>\n",
       "    <tr>\n",
       "      <th>17</th>\n",
       "      <td>190</td>\n",
       "    </tr>\n",
       "    <tr>\n",
       "      <th>18</th>\n",
       "      <td>60</td>\n",
       "    </tr>\n",
       "    <tr>\n",
       "      <th>19</th>\n",
       "      <td>378</td>\n",
       "    </tr>\n",
       "    <tr>\n",
       "      <th>20</th>\n",
       "      <td>263</td>\n",
       "    </tr>\n",
       "    <tr>\n",
       "      <th>21</th>\n",
       "      <td>170</td>\n",
       "    </tr>\n",
       "    <tr>\n",
       "      <th>22</th>\n",
       "      <td>179</td>\n",
       "    </tr>\n",
       "    <tr>\n",
       "      <th>23</th>\n",
       "      <td>108</td>\n",
       "    </tr>\n",
       "  </tbody>\n",
       "</table>\n",
       "</div>"
      ],
      "text/plain": [
       "               Number of members\n",
       "Cluster Index                   \n",
       "0                            167\n",
       "1                            302\n",
       "2                            129\n",
       "3                            411\n",
       "4                            122\n",
       "5                            457\n",
       "6                            148\n",
       "7                            236\n",
       "8                            117\n",
       "9                            283\n",
       "10                           173\n",
       "11                            80\n",
       "12                           152\n",
       "13                           357\n",
       "14                           171\n",
       "15                           130\n",
       "16                           217\n",
       "17                           190\n",
       "18                            60\n",
       "19                           378\n",
       "20                           263\n",
       "21                           170\n",
       "22                           179\n",
       "23                           108"
      ]
     },
     "execution_count": 41,
     "metadata": {},
     "output_type": "execute_result"
    }
   ],
   "source": [
    "print('Using PCA:')\n",
    "kmeans_model_pge = KMeans(n_clusters = best_k_pge_pca_v_measure, random_state = 0) \n",
    "kmeans_assignment_pge = kmeans_model_pge.fit_predict(test_data_1)\n",
    "kmeans_model_resnet = KMeans(n_clusters = best_k_resnet_pca_v_measure , random_state = 0) \n",
    "kmeans_assignment_resnet = kmeans_model_resnet.fit_predict(test_data_2)\n",
    "print('Number of clusters from KMeans-PGE: %d and from KMeans-ResNet: %d'%(np.unique(kmeans_assignment_pge).shape[0],np.unique(kmeans_assignment_resnet).shape[0]))\n",
    "\n",
    "kmeans_counts_pge = np.unique(kmeans_assignment_pge, return_counts = True)\n",
    "pge_df = pd.DataFrame({'Cluster Index': kmeans_counts_pge[0], 'Number of members':kmeans_counts_pge[1]}).set_index('Cluster Index')\n",
    "\n",
    "\n",
    "print('Kmeans-PGE_PCA assignment counts')\n",
    "pge_df"
   ]
  },
  {
   "cell_type": "code",
   "execution_count": 42,
   "metadata": {
    "scrolled": false
   },
   "outputs": [
    {
     "name": "stdout",
     "output_type": "stream",
     "text": [
      "Kmeans-ResNet50-PCA assignment counts\n"
     ]
    },
    {
     "data": {
      "text/html": [
       "<div>\n",
       "<style scoped>\n",
       "    .dataframe tbody tr th:only-of-type {\n",
       "        vertical-align: middle;\n",
       "    }\n",
       "\n",
       "    .dataframe tbody tr th {\n",
       "        vertical-align: top;\n",
       "    }\n",
       "\n",
       "    .dataframe thead th {\n",
       "        text-align: right;\n",
       "    }\n",
       "</style>\n",
       "<table border=\"1\" class=\"dataframe\">\n",
       "  <thead>\n",
       "    <tr style=\"text-align: right;\">\n",
       "      <th></th>\n",
       "      <th>Number of members</th>\n",
       "    </tr>\n",
       "    <tr>\n",
       "      <th>Cluster Index</th>\n",
       "      <th></th>\n",
       "    </tr>\n",
       "  </thead>\n",
       "  <tbody>\n",
       "    <tr>\n",
       "      <th>0</th>\n",
       "      <td>76</td>\n",
       "    </tr>\n",
       "    <tr>\n",
       "      <th>1</th>\n",
       "      <td>131</td>\n",
       "    </tr>\n",
       "    <tr>\n",
       "      <th>2</th>\n",
       "      <td>149</td>\n",
       "    </tr>\n",
       "    <tr>\n",
       "      <th>3</th>\n",
       "      <td>77</td>\n",
       "    </tr>\n",
       "    <tr>\n",
       "      <th>4</th>\n",
       "      <td>227</td>\n",
       "    </tr>\n",
       "    <tr>\n",
       "      <th>5</th>\n",
       "      <td>305</td>\n",
       "    </tr>\n",
       "    <tr>\n",
       "      <th>6</th>\n",
       "      <td>214</td>\n",
       "    </tr>\n",
       "    <tr>\n",
       "      <th>7</th>\n",
       "      <td>161</td>\n",
       "    </tr>\n",
       "    <tr>\n",
       "      <th>8</th>\n",
       "      <td>207</td>\n",
       "    </tr>\n",
       "    <tr>\n",
       "      <th>9</th>\n",
       "      <td>110</td>\n",
       "    </tr>\n",
       "    <tr>\n",
       "      <th>10</th>\n",
       "      <td>156</td>\n",
       "    </tr>\n",
       "    <tr>\n",
       "      <th>11</th>\n",
       "      <td>197</td>\n",
       "    </tr>\n",
       "    <tr>\n",
       "      <th>12</th>\n",
       "      <td>156</td>\n",
       "    </tr>\n",
       "    <tr>\n",
       "      <th>13</th>\n",
       "      <td>166</td>\n",
       "    </tr>\n",
       "    <tr>\n",
       "      <th>14</th>\n",
       "      <td>87</td>\n",
       "    </tr>\n",
       "    <tr>\n",
       "      <th>15</th>\n",
       "      <td>121</td>\n",
       "    </tr>\n",
       "    <tr>\n",
       "      <th>16</th>\n",
       "      <td>110</td>\n",
       "    </tr>\n",
       "    <tr>\n",
       "      <th>17</th>\n",
       "      <td>129</td>\n",
       "    </tr>\n",
       "    <tr>\n",
       "      <th>18</th>\n",
       "      <td>209</td>\n",
       "    </tr>\n",
       "    <tr>\n",
       "      <th>19</th>\n",
       "      <td>216</td>\n",
       "    </tr>\n",
       "    <tr>\n",
       "      <th>20</th>\n",
       "      <td>178</td>\n",
       "    </tr>\n",
       "    <tr>\n",
       "      <th>21</th>\n",
       "      <td>116</td>\n",
       "    </tr>\n",
       "    <tr>\n",
       "      <th>22</th>\n",
       "      <td>132</td>\n",
       "    </tr>\n",
       "    <tr>\n",
       "      <th>23</th>\n",
       "      <td>154</td>\n",
       "    </tr>\n",
       "    <tr>\n",
       "      <th>24</th>\n",
       "      <td>147</td>\n",
       "    </tr>\n",
       "    <tr>\n",
       "      <th>25</th>\n",
       "      <td>126</td>\n",
       "    </tr>\n",
       "    <tr>\n",
       "      <th>26</th>\n",
       "      <td>149</td>\n",
       "    </tr>\n",
       "    <tr>\n",
       "      <th>27</th>\n",
       "      <td>171</td>\n",
       "    </tr>\n",
       "    <tr>\n",
       "      <th>28</th>\n",
       "      <td>199</td>\n",
       "    </tr>\n",
       "    <tr>\n",
       "      <th>29</th>\n",
       "      <td>276</td>\n",
       "    </tr>\n",
       "    <tr>\n",
       "      <th>30</th>\n",
       "      <td>148</td>\n",
       "    </tr>\n",
       "  </tbody>\n",
       "</table>\n",
       "</div>"
      ],
      "text/plain": [
       "               Number of members\n",
       "Cluster Index                   \n",
       "0                             76\n",
       "1                            131\n",
       "2                            149\n",
       "3                             77\n",
       "4                            227\n",
       "5                            305\n",
       "6                            214\n",
       "7                            161\n",
       "8                            207\n",
       "9                            110\n",
       "10                           156\n",
       "11                           197\n",
       "12                           156\n",
       "13                           166\n",
       "14                            87\n",
       "15                           121\n",
       "16                           110\n",
       "17                           129\n",
       "18                           209\n",
       "19                           216\n",
       "20                           178\n",
       "21                           116\n",
       "22                           132\n",
       "23                           154\n",
       "24                           147\n",
       "25                           126\n",
       "26                           149\n",
       "27                           171\n",
       "28                           199\n",
       "29                           276\n",
       "30                           148"
      ]
     },
     "execution_count": 42,
     "metadata": {},
     "output_type": "execute_result"
    }
   ],
   "source": [
    "kmeans_counts_resnet = np.unique(kmeans_assignment_resnet, return_counts = True)\n",
    "resnet_df = pd.DataFrame({'Cluster Index': kmeans_counts_resnet[0], 'Number of members':kmeans_counts_resnet[1]}).set_index('Cluster Index')\n",
    "\n",
    "print('Kmeans-ResNet50-PCA assignment counts')\n",
    "resnet_df"
   ]
  },
  {
   "cell_type": "markdown",
   "metadata": {},
   "source": [
    "Below are the member of the cluster for PGE and ResNet50 using UMAP projections."
   ]
  },
  {
   "cell_type": "code",
   "execution_count": 43,
   "metadata": {},
   "outputs": [
    {
     "name": "stdout",
     "output_type": "stream",
     "text": [
      "Using UMAP:\n",
      "Number of clusters from KMeans-PGE: 19 and from KMeans-ResNet: 15\n",
      "Kmeans-PGE-UMAP assignment counts\n"
     ]
    },
    {
     "data": {
      "text/html": [
       "<div>\n",
       "<style scoped>\n",
       "    .dataframe tbody tr th:only-of-type {\n",
       "        vertical-align: middle;\n",
       "    }\n",
       "\n",
       "    .dataframe tbody tr th {\n",
       "        vertical-align: top;\n",
       "    }\n",
       "\n",
       "    .dataframe thead th {\n",
       "        text-align: right;\n",
       "    }\n",
       "</style>\n",
       "<table border=\"1\" class=\"dataframe\">\n",
       "  <thead>\n",
       "    <tr style=\"text-align: right;\">\n",
       "      <th></th>\n",
       "      <th>Number of members</th>\n",
       "    </tr>\n",
       "    <tr>\n",
       "      <th>Cluster Index</th>\n",
       "      <th></th>\n",
       "    </tr>\n",
       "  </thead>\n",
       "  <tbody>\n",
       "    <tr>\n",
       "      <th>0</th>\n",
       "      <td>188</td>\n",
       "    </tr>\n",
       "    <tr>\n",
       "      <th>1</th>\n",
       "      <td>280</td>\n",
       "    </tr>\n",
       "    <tr>\n",
       "      <th>2</th>\n",
       "      <td>189</td>\n",
       "    </tr>\n",
       "    <tr>\n",
       "      <th>3</th>\n",
       "      <td>354</td>\n",
       "    </tr>\n",
       "    <tr>\n",
       "      <th>4</th>\n",
       "      <td>326</td>\n",
       "    </tr>\n",
       "    <tr>\n",
       "      <th>5</th>\n",
       "      <td>305</td>\n",
       "    </tr>\n",
       "    <tr>\n",
       "      <th>6</th>\n",
       "      <td>167</td>\n",
       "    </tr>\n",
       "    <tr>\n",
       "      <th>7</th>\n",
       "      <td>400</td>\n",
       "    </tr>\n",
       "    <tr>\n",
       "      <th>8</th>\n",
       "      <td>68</td>\n",
       "    </tr>\n",
       "    <tr>\n",
       "      <th>9</th>\n",
       "      <td>190</td>\n",
       "    </tr>\n",
       "    <tr>\n",
       "      <th>10</th>\n",
       "      <td>127</td>\n",
       "    </tr>\n",
       "    <tr>\n",
       "      <th>11</th>\n",
       "      <td>389</td>\n",
       "    </tr>\n",
       "    <tr>\n",
       "      <th>12</th>\n",
       "      <td>127</td>\n",
       "    </tr>\n",
       "    <tr>\n",
       "      <th>13</th>\n",
       "      <td>279</td>\n",
       "    </tr>\n",
       "    <tr>\n",
       "      <th>14</th>\n",
       "      <td>479</td>\n",
       "    </tr>\n",
       "    <tr>\n",
       "      <th>15</th>\n",
       "      <td>288</td>\n",
       "    </tr>\n",
       "    <tr>\n",
       "      <th>16</th>\n",
       "      <td>152</td>\n",
       "    </tr>\n",
       "    <tr>\n",
       "      <th>17</th>\n",
       "      <td>225</td>\n",
       "    </tr>\n",
       "    <tr>\n",
       "      <th>18</th>\n",
       "      <td>467</td>\n",
       "    </tr>\n",
       "  </tbody>\n",
       "</table>\n",
       "</div>"
      ],
      "text/plain": [
       "               Number of members\n",
       "Cluster Index                   \n",
       "0                            188\n",
       "1                            280\n",
       "2                            189\n",
       "3                            354\n",
       "4                            326\n",
       "5                            305\n",
       "6                            167\n",
       "7                            400\n",
       "8                             68\n",
       "9                            190\n",
       "10                           127\n",
       "11                           389\n",
       "12                           127\n",
       "13                           279\n",
       "14                           479\n",
       "15                           288\n",
       "16                           152\n",
       "17                           225\n",
       "18                           467"
      ]
     },
     "execution_count": 43,
     "metadata": {},
     "output_type": "execute_result"
    }
   ],
   "source": [
    "print('Using UMAP:')\n",
    "kmeans_model_pge = KMeans(n_clusters = best_k_pge_umap_v_measure, random_state = 0) \n",
    "kmeans_assignment_pge = kmeans_model_pge.fit_predict(test_data_1)\n",
    "kmeans_model_resnet = KMeans(n_clusters = best_k_resnet_umap_v_measure , random_state = 0) \n",
    "kmeans_assignment_resnet = kmeans_model_resnet.fit_predict(test_data_2)\n",
    "print('Number of clusters from KMeans-PGE: %d and from KMeans-ResNet: %d'%(np.unique(kmeans_assignment_pge).shape[0],np.unique(kmeans_assignment_resnet).shape[0]))\n",
    "\n",
    "kmeans_counts_pge = np.unique(kmeans_assignment_pge, return_counts = True)\n",
    "pge_df = pd.DataFrame({'Cluster Index': kmeans_counts_pge[0], 'Number of members':kmeans_counts_pge[1]}).set_index('Cluster Index')\n",
    "\n",
    "\n",
    "print('Kmeans-PGE-UMAP assignment counts')\n",
    "pge_df"
   ]
  },
  {
   "cell_type": "code",
   "execution_count": 44,
   "metadata": {},
   "outputs": [
    {
     "name": "stdout",
     "output_type": "stream",
     "text": [
      "Kmeans-ResNet50-UMAP assignment counts\n"
     ]
    },
    {
     "data": {
      "text/html": [
       "<div>\n",
       "<style scoped>\n",
       "    .dataframe tbody tr th:only-of-type {\n",
       "        vertical-align: middle;\n",
       "    }\n",
       "\n",
       "    .dataframe tbody tr th {\n",
       "        vertical-align: top;\n",
       "    }\n",
       "\n",
       "    .dataframe thead th {\n",
       "        text-align: right;\n",
       "    }\n",
       "</style>\n",
       "<table border=\"1\" class=\"dataframe\">\n",
       "  <thead>\n",
       "    <tr style=\"text-align: right;\">\n",
       "      <th></th>\n",
       "      <th>Number of members</th>\n",
       "    </tr>\n",
       "    <tr>\n",
       "      <th>Cluster Index</th>\n",
       "      <th></th>\n",
       "    </tr>\n",
       "  </thead>\n",
       "  <tbody>\n",
       "    <tr>\n",
       "      <th>0</th>\n",
       "      <td>367</td>\n",
       "    </tr>\n",
       "    <tr>\n",
       "      <th>1</th>\n",
       "      <td>389</td>\n",
       "    </tr>\n",
       "    <tr>\n",
       "      <th>2</th>\n",
       "      <td>326</td>\n",
       "    </tr>\n",
       "    <tr>\n",
       "      <th>3</th>\n",
       "      <td>443</td>\n",
       "    </tr>\n",
       "    <tr>\n",
       "      <th>4</th>\n",
       "      <td>551</td>\n",
       "    </tr>\n",
       "    <tr>\n",
       "      <th>5</th>\n",
       "      <td>212</td>\n",
       "    </tr>\n",
       "    <tr>\n",
       "      <th>6</th>\n",
       "      <td>166</td>\n",
       "    </tr>\n",
       "    <tr>\n",
       "      <th>7</th>\n",
       "      <td>229</td>\n",
       "    </tr>\n",
       "    <tr>\n",
       "      <th>8</th>\n",
       "      <td>340</td>\n",
       "    </tr>\n",
       "    <tr>\n",
       "      <th>9</th>\n",
       "      <td>470</td>\n",
       "    </tr>\n",
       "    <tr>\n",
       "      <th>10</th>\n",
       "      <td>290</td>\n",
       "    </tr>\n",
       "    <tr>\n",
       "      <th>11</th>\n",
       "      <td>457</td>\n",
       "    </tr>\n",
       "    <tr>\n",
       "      <th>12</th>\n",
       "      <td>339</td>\n",
       "    </tr>\n",
       "    <tr>\n",
       "      <th>13</th>\n",
       "      <td>327</td>\n",
       "    </tr>\n",
       "    <tr>\n",
       "      <th>14</th>\n",
       "      <td>94</td>\n",
       "    </tr>\n",
       "  </tbody>\n",
       "</table>\n",
       "</div>"
      ],
      "text/plain": [
       "               Number of members\n",
       "Cluster Index                   \n",
       "0                            367\n",
       "1                            389\n",
       "2                            326\n",
       "3                            443\n",
       "4                            551\n",
       "5                            212\n",
       "6                            166\n",
       "7                            229\n",
       "8                            340\n",
       "9                            470\n",
       "10                           290\n",
       "11                           457\n",
       "12                           339\n",
       "13                           327\n",
       "14                            94"
      ]
     },
     "execution_count": 44,
     "metadata": {},
     "output_type": "execute_result"
    }
   ],
   "source": [
    "kmeans_counts_resnet = np.unique(kmeans_assignment_resnet, return_counts = True)\n",
    "resnet_df = pd.DataFrame({'Cluster Index': kmeans_counts_resnet[0], 'Number of members':kmeans_counts_resnet[1]}).set_index('Cluster Index')\n",
    "\n",
    "print('Kmeans-ResNet50-UMAP assignment counts')\n",
    "resnet_df"
   ]
  },
  {
   "cell_type": "markdown",
   "metadata": {},
   "source": [
    "### But in real life application of unsupervised learning:\n",
    "\n",
    "### 1. V-Measure is not a feasible measure to find the optimal number of clusters 'k' for a given dataset.\n",
    "### 2. The real labels are never available in practical applications.\n",
    "\n",
    "### Hence, we are considering the silhouette score to find the optimal number of clusters 'k' whose value ranges from -1 to 1. The optimal cluster 'k' where we get the best fit is provided below along with its members:"
   ]
  },
  {
   "cell_type": "code",
   "execution_count": 45,
   "metadata": {},
   "outputs": [
    {
     "name": "stdout",
     "output_type": "stream",
     "text": [
      "Using PCA:\n",
      "Kmeans-PGE_PCA assignment counts\n"
     ]
    },
    {
     "data": {
      "text/html": [
       "<div>\n",
       "<style scoped>\n",
       "    .dataframe tbody tr th:only-of-type {\n",
       "        vertical-align: middle;\n",
       "    }\n",
       "\n",
       "    .dataframe tbody tr th {\n",
       "        vertical-align: top;\n",
       "    }\n",
       "\n",
       "    .dataframe thead th {\n",
       "        text-align: right;\n",
       "    }\n",
       "</style>\n",
       "<table border=\"1\" class=\"dataframe\">\n",
       "  <thead>\n",
       "    <tr style=\"text-align: right;\">\n",
       "      <th></th>\n",
       "      <th>Number of members</th>\n",
       "    </tr>\n",
       "    <tr>\n",
       "      <th>Cluster Index</th>\n",
       "      <th></th>\n",
       "    </tr>\n",
       "  </thead>\n",
       "  <tbody>\n",
       "    <tr>\n",
       "      <th>0</th>\n",
       "      <td>1329</td>\n",
       "    </tr>\n",
       "    <tr>\n",
       "      <th>1</th>\n",
       "      <td>3671</td>\n",
       "    </tr>\n",
       "  </tbody>\n",
       "</table>\n",
       "</div>"
      ],
      "text/plain": [
       "               Number of members\n",
       "Cluster Index                   \n",
       "0                           1329\n",
       "1                           3671"
      ]
     },
     "execution_count": 45,
     "metadata": {},
     "output_type": "execute_result"
    }
   ],
   "source": [
    "print('Using PCA:')\n",
    "kmeans_model_pge = KMeans(n_clusters = best_k_pge_pca_silhouette_score, random_state = 0) \n",
    "kmeans_assignment_pge = kmeans_model_pge.fit_predict(test_data_1)\n",
    "kmeans_model_resnet = KMeans(n_clusters = best_k_resnet_pca_silhouette_score , random_state = 0) \n",
    "kmeans_assignment_resnet = kmeans_model_resnet.fit_predict(test_data_2)\n",
    "# print('Number of clusters from KMeans-PGE: %d and from KMeans-ResNet: %d'%(np.unique(kmeans_assignment_pge).shape[0],np.unique(kmeans_assignment_resnet).shape[0]))\n",
    "\n",
    "kmeans_counts_pge = np.unique(kmeans_assignment_pge, return_counts = True)\n",
    "pge_df = pd.DataFrame({'Cluster Index': kmeans_counts_pge[0], 'Number of members':kmeans_counts_pge[1]}).set_index('Cluster Index')\n",
    "\n",
    "\n",
    "print('Kmeans-PGE_PCA assignment counts')\n",
    "pge_df"
   ]
  },
  {
   "cell_type": "code",
   "execution_count": 46,
   "metadata": {},
   "outputs": [
    {
     "name": "stdout",
     "output_type": "stream",
     "text": [
      "Kmeans-ResNet50-PCA assignment counts\n"
     ]
    },
    {
     "data": {
      "text/html": [
       "<div>\n",
       "<style scoped>\n",
       "    .dataframe tbody tr th:only-of-type {\n",
       "        vertical-align: middle;\n",
       "    }\n",
       "\n",
       "    .dataframe tbody tr th {\n",
       "        vertical-align: top;\n",
       "    }\n",
       "\n",
       "    .dataframe thead th {\n",
       "        text-align: right;\n",
       "    }\n",
       "</style>\n",
       "<table border=\"1\" class=\"dataframe\">\n",
       "  <thead>\n",
       "    <tr style=\"text-align: right;\">\n",
       "      <th></th>\n",
       "      <th>Number of members</th>\n",
       "    </tr>\n",
       "    <tr>\n",
       "      <th>Cluster Index</th>\n",
       "      <th></th>\n",
       "    </tr>\n",
       "  </thead>\n",
       "  <tbody>\n",
       "    <tr>\n",
       "      <th>0</th>\n",
       "      <td>415</td>\n",
       "    </tr>\n",
       "    <tr>\n",
       "      <th>1</th>\n",
       "      <td>1031</td>\n",
       "    </tr>\n",
       "    <tr>\n",
       "      <th>2</th>\n",
       "      <td>2825</td>\n",
       "    </tr>\n",
       "    <tr>\n",
       "      <th>3</th>\n",
       "      <td>729</td>\n",
       "    </tr>\n",
       "  </tbody>\n",
       "</table>\n",
       "</div>"
      ],
      "text/plain": [
       "               Number of members\n",
       "Cluster Index                   \n",
       "0                            415\n",
       "1                           1031\n",
       "2                           2825\n",
       "3                            729"
      ]
     },
     "execution_count": 46,
     "metadata": {},
     "output_type": "execute_result"
    }
   ],
   "source": [
    "kmeans_counts_resnet = np.unique(kmeans_assignment_resnet, return_counts = True)\n",
    "resnet_df = pd.DataFrame({'Cluster Index': kmeans_counts_resnet[0], 'Number of members':kmeans_counts_resnet[1]}).set_index('Cluster Index')\n",
    "\n",
    "print('Kmeans-ResNet50-PCA assignment counts')\n",
    "resnet_df"
   ]
  },
  {
   "cell_type": "code",
   "execution_count": 47,
   "metadata": {},
   "outputs": [
    {
     "name": "stdout",
     "output_type": "stream",
     "text": [
      "Using UMAP:\n",
      "Kmeans-PGE-UMAP assignment counts\n"
     ]
    },
    {
     "data": {
      "text/html": [
       "<div>\n",
       "<style scoped>\n",
       "    .dataframe tbody tr th:only-of-type {\n",
       "        vertical-align: middle;\n",
       "    }\n",
       "\n",
       "    .dataframe tbody tr th {\n",
       "        vertical-align: top;\n",
       "    }\n",
       "\n",
       "    .dataframe thead th {\n",
       "        text-align: right;\n",
       "    }\n",
       "</style>\n",
       "<table border=\"1\" class=\"dataframe\">\n",
       "  <thead>\n",
       "    <tr style=\"text-align: right;\">\n",
       "      <th></th>\n",
       "      <th>Number of members</th>\n",
       "    </tr>\n",
       "    <tr>\n",
       "      <th>Cluster Index</th>\n",
       "      <th></th>\n",
       "    </tr>\n",
       "  </thead>\n",
       "  <tbody>\n",
       "    <tr>\n",
       "      <th>0</th>\n",
       "      <td>383</td>\n",
       "    </tr>\n",
       "    <tr>\n",
       "      <th>1</th>\n",
       "      <td>810</td>\n",
       "    </tr>\n",
       "    <tr>\n",
       "      <th>2</th>\n",
       "      <td>890</td>\n",
       "    </tr>\n",
       "    <tr>\n",
       "      <th>3</th>\n",
       "      <td>570</td>\n",
       "    </tr>\n",
       "    <tr>\n",
       "      <th>4</th>\n",
       "      <td>1047</td>\n",
       "    </tr>\n",
       "    <tr>\n",
       "      <th>5</th>\n",
       "      <td>518</td>\n",
       "    </tr>\n",
       "    <tr>\n",
       "      <th>6</th>\n",
       "      <td>782</td>\n",
       "    </tr>\n",
       "  </tbody>\n",
       "</table>\n",
       "</div>"
      ],
      "text/plain": [
       "               Number of members\n",
       "Cluster Index                   \n",
       "0                            383\n",
       "1                            810\n",
       "2                            890\n",
       "3                            570\n",
       "4                           1047\n",
       "5                            518\n",
       "6                            782"
      ]
     },
     "execution_count": 47,
     "metadata": {},
     "output_type": "execute_result"
    }
   ],
   "source": [
    "print('Using UMAP:')\n",
    "kmeans_model_pge = KMeans(n_clusters = best_k_pge_umap_silhouette_score, random_state = 0) \n",
    "kmeans_assignment_pge = kmeans_model_pge.fit_predict(test_data_1)\n",
    "kmeans_model_resnet = KMeans(n_clusters = best_k_resnet_umap_silhouette_score , random_state = 0) \n",
    "kmeans_assignment_resnet = kmeans_model_resnet.fit_predict(test_data_2)\n",
    "# print('Number of clusters from KMeans-PGE: %d and from KMeans-ResNet: %d'%(np.unique(kmeans_assignment_pge).shape[0],np.unique(kmeans_assignment_resnet).shape[0]))\n",
    "\n",
    "kmeans_counts_pge = np.unique(kmeans_assignment_pge, return_counts = True)\n",
    "pge_df = pd.DataFrame({'Cluster Index': kmeans_counts_pge[0], 'Number of members':kmeans_counts_pge[1]}).set_index('Cluster Index')\n",
    "\n",
    "\n",
    "print('Kmeans-PGE-UMAP assignment counts')\n",
    "pge_df"
   ]
  },
  {
   "cell_type": "code",
   "execution_count": 48,
   "metadata": {},
   "outputs": [
    {
     "name": "stdout",
     "output_type": "stream",
     "text": [
      "Kmeans-ResNet50-UMAP assignment counts\n"
     ]
    },
    {
     "data": {
      "text/html": [
       "<div>\n",
       "<style scoped>\n",
       "    .dataframe tbody tr th:only-of-type {\n",
       "        vertical-align: middle;\n",
       "    }\n",
       "\n",
       "    .dataframe tbody tr th {\n",
       "        vertical-align: top;\n",
       "    }\n",
       "\n",
       "    .dataframe thead th {\n",
       "        text-align: right;\n",
       "    }\n",
       "</style>\n",
       "<table border=\"1\" class=\"dataframe\">\n",
       "  <thead>\n",
       "    <tr style=\"text-align: right;\">\n",
       "      <th></th>\n",
       "      <th>Number of members</th>\n",
       "    </tr>\n",
       "    <tr>\n",
       "      <th>Cluster Index</th>\n",
       "      <th></th>\n",
       "    </tr>\n",
       "  </thead>\n",
       "  <tbody>\n",
       "    <tr>\n",
       "      <th>0</th>\n",
       "      <td>329</td>\n",
       "    </tr>\n",
       "    <tr>\n",
       "      <th>1</th>\n",
       "      <td>270</td>\n",
       "    </tr>\n",
       "    <tr>\n",
       "      <th>2</th>\n",
       "      <td>275</td>\n",
       "    </tr>\n",
       "    <tr>\n",
       "      <th>3</th>\n",
       "      <td>148</td>\n",
       "    </tr>\n",
       "    <tr>\n",
       "      <th>4</th>\n",
       "      <td>164</td>\n",
       "    </tr>\n",
       "    <tr>\n",
       "      <th>5</th>\n",
       "      <td>207</td>\n",
       "    </tr>\n",
       "    <tr>\n",
       "      <th>6</th>\n",
       "      <td>222</td>\n",
       "    </tr>\n",
       "    <tr>\n",
       "      <th>7</th>\n",
       "      <td>237</td>\n",
       "    </tr>\n",
       "    <tr>\n",
       "      <th>8</th>\n",
       "      <td>293</td>\n",
       "    </tr>\n",
       "    <tr>\n",
       "      <th>9</th>\n",
       "      <td>201</td>\n",
       "    </tr>\n",
       "    <tr>\n",
       "      <th>10</th>\n",
       "      <td>217</td>\n",
       "    </tr>\n",
       "    <tr>\n",
       "      <th>11</th>\n",
       "      <td>308</td>\n",
       "    </tr>\n",
       "    <tr>\n",
       "      <th>12</th>\n",
       "      <td>210</td>\n",
       "    </tr>\n",
       "    <tr>\n",
       "      <th>13</th>\n",
       "      <td>284</td>\n",
       "    </tr>\n",
       "    <tr>\n",
       "      <th>14</th>\n",
       "      <td>272</td>\n",
       "    </tr>\n",
       "    <tr>\n",
       "      <th>15</th>\n",
       "      <td>178</td>\n",
       "    </tr>\n",
       "    <tr>\n",
       "      <th>16</th>\n",
       "      <td>296</td>\n",
       "    </tr>\n",
       "    <tr>\n",
       "      <th>17</th>\n",
       "      <td>220</td>\n",
       "    </tr>\n",
       "    <tr>\n",
       "      <th>18</th>\n",
       "      <td>269</td>\n",
       "    </tr>\n",
       "    <tr>\n",
       "      <th>19</th>\n",
       "      <td>195</td>\n",
       "    </tr>\n",
       "    <tr>\n",
       "      <th>20</th>\n",
       "      <td>205</td>\n",
       "    </tr>\n",
       "  </tbody>\n",
       "</table>\n",
       "</div>"
      ],
      "text/plain": [
       "               Number of members\n",
       "Cluster Index                   \n",
       "0                            329\n",
       "1                            270\n",
       "2                            275\n",
       "3                            148\n",
       "4                            164\n",
       "5                            207\n",
       "6                            222\n",
       "7                            237\n",
       "8                            293\n",
       "9                            201\n",
       "10                           217\n",
       "11                           308\n",
       "12                           210\n",
       "13                           284\n",
       "14                           272\n",
       "15                           178\n",
       "16                           296\n",
       "17                           220\n",
       "18                           269\n",
       "19                           195\n",
       "20                           205"
      ]
     },
     "execution_count": 48,
     "metadata": {},
     "output_type": "execute_result"
    }
   ],
   "source": [
    "kmeans_counts_resnet = np.unique(kmeans_assignment_resnet, return_counts = True)\n",
    "resnet_df = pd.DataFrame({'Cluster Index': kmeans_counts_resnet[0], 'Number of members':kmeans_counts_resnet[1]}).set_index('Cluster Index')\n",
    "\n",
    "print('Kmeans-ResNet50-UMAP assignment counts')\n",
    "resnet_df"
   ]
  },
  {
   "cell_type": "markdown",
   "metadata": {},
   "source": [
    "# Final Metrics of K-Means Clustering"
   ]
  },
  {
   "cell_type": "code",
   "execution_count": 49,
   "metadata": {},
   "outputs": [
    {
     "data": {
      "text/html": [
       "<div>\n",
       "<style scoped>\n",
       "    .dataframe tbody tr th:only-of-type {\n",
       "        vertical-align: middle;\n",
       "    }\n",
       "\n",
       "    .dataframe tbody tr th {\n",
       "        vertical-align: top;\n",
       "    }\n",
       "\n",
       "    .dataframe thead th {\n",
       "        text-align: right;\n",
       "    }\n",
       "</style>\n",
       "<table border=\"1\" class=\"dataframe\">\n",
       "  <thead>\n",
       "    <tr style=\"text-align: right;\">\n",
       "      <th></th>\n",
       "      <th>PGE</th>\n",
       "      <th>ResNet50</th>\n",
       "    </tr>\n",
       "    <tr>\n",
       "      <th>Metrics</th>\n",
       "      <th></th>\n",
       "      <th></th>\n",
       "    </tr>\n",
       "  </thead>\n",
       "  <tbody>\n",
       "    <tr>\n",
       "      <th>silhouette-PCA</th>\n",
       "      <td>0.307905</td>\n",
       "      <td>0.167148</td>\n",
       "    </tr>\n",
       "    <tr>\n",
       "      <th>silhouette-UMAP</th>\n",
       "      <td>0.615687</td>\n",
       "      <td>0.607017</td>\n",
       "    </tr>\n",
       "    <tr>\n",
       "      <th>VMeasure-PCA</th>\n",
       "      <td>0.455538</td>\n",
       "      <td>0.547355</td>\n",
       "    </tr>\n",
       "    <tr>\n",
       "      <th>VMeasure-UMAP</th>\n",
       "      <td>0.563564</td>\n",
       "      <td>0.712187</td>\n",
       "    </tr>\n",
       "  </tbody>\n",
       "</table>\n",
       "</div>"
      ],
      "text/plain": [
       "                      PGE  ResNet50\n",
       "Metrics                            \n",
       "silhouette-PCA   0.307905  0.167148\n",
       "silhouette-UMAP  0.615687  0.607017\n",
       "VMeasure-PCA     0.455538  0.547355\n",
       "VMeasure-UMAP    0.563564  0.712187"
      ]
     },
     "execution_count": 49,
     "metadata": {},
     "output_type": "execute_result"
    }
   ],
   "source": [
    "pge_pca_silhouette_score = max(silhouette_scores_pca_pge)\n",
    "pge_umap_silhouette_score = max(silhouette_scores_umap_pge)\n",
    "resnet_pca_silhouette_score = max(silhouette_scores_pca_resnet)\n",
    "resnet_umap_silhouette_score = max(silhouette_scores_umap_resnet)\n",
    "\n",
    "pge_pca_v_measure = max(v_measure_scores_pca_pge)\n",
    "pge_umap_v_measure = max(v_measure_scores_umap_pge)\n",
    "resnet_pca_v_measure = max(v_measure_scores_pca_resnet)\n",
    "resnet_umap_v_measure = max(v_measure_scores_umap_resnet)\n",
    "\n",
    "#####Storing the values for final evaluation######################\n",
    "\n",
    "Kmeans_best_k_pca_pge = best_k_pge_pca_silhouette_score\n",
    "Kmeans_best_k_umap_pge = best_k_pge_umap_silhouette_score\n",
    "Kmeans_best_k_pca_resnet = best_k_resnet_pca_silhouette_score\n",
    "Kmeans_best_k_umap_resnet = best_k_resnet_umap_silhouette_score\n",
    "\n",
    "pd.DataFrame({'Metrics': ['silhouette-PCA', 'silhouette-UMAP','VMeasure-PCA','VMeasure-UMAP'], 'PGE': [pge_pca_silhouette_score,pge_umap_silhouette_score,pge_pca_v_measure,pge_umap_v_measure ],'ResNet50':[resnet_pca_silhouette_score, resnet_umap_silhouette_score,resnet_pca_v_measure,resnet_umap_v_measure]}).set_index('Metrics')"
   ]
  },
  {
   "cell_type": "markdown",
   "metadata": {},
   "source": [
    "# Part 2: Hierarchical Clustering(Agglomerative Clustering)"
   ]
  },
  {
   "cell_type": "code",
   "execution_count": 50,
   "metadata": {},
   "outputs": [],
   "source": [
    "from sklearn.cluster import AgglomerativeClustering\n",
    "\n",
    "K = list(range(2,50))"
   ]
  },
  {
   "cell_type": "markdown",
   "metadata": {},
   "source": [
    "### Here, we are using linkage as 'single' to cluster based on the nearest branch available and evaluating the respective performance measurements to determine the optimal value of the k."
   ]
  },
  {
   "cell_type": "code",
   "execution_count": 51,
   "metadata": {},
   "outputs": [
    {
     "name": "stdout",
     "output_type": "stream",
     "text": [
      "Best k for PGE feature set: 2\n"
     ]
    },
    {
     "data": {
      "image/png": "[encoded data removed]",
      "text/plain": [
       "<Figure size 432x288 with 1 Axes>"
      ]
     },
     "metadata": {
      "needs_background": "light"
     },
     "output_type": "display_data"
    }
   ],
   "source": [
    "silhouette_scores_pca_pge =  []\n",
    "for k in K:\n",
    "    agglo_model= AgglomerativeClustering(n_clusters=k, affinity='euclidean', linkage='single')\n",
    "    agglo_assignment_pca_pge = agglo_model.fit_predict(test_data_1)\n",
    "    \n",
    "    agglo_silhouette_pge = silhouette_score(test_data_1, agglo_assignment_pca_pge)\n",
    "    silhouette_scores_pca_pge.append(agglo_silhouette_pge)\n",
    "    \n",
    "print(\"Best k for PGE feature set:\",silhouette_scores_pca_pge.index(max(silhouette_scores_pca_pge))+2)\n",
    "\n",
    "plt.plot(K, silhouette_scores_pca_pge, 'bo-')\n",
    "plt.xlabel('k')\n",
    "plt.ylabel('Silhouette scores PCA')\n",
    "plt.title('For Optimal k using PGE')\n",
    "plt.show()"
   ]
  },
  {
   "cell_type": "code",
   "execution_count": 52,
   "metadata": {},
   "outputs": [
    {
     "name": "stdout",
     "output_type": "stream",
     "text": [
      "Best k for ResNet feature set: 2\n"
     ]
    },
    {
     "data": {
      "image/png": "[encoded data removed]",
      "text/plain": [
       "<Figure size 432x288 with 1 Axes>"
      ]
     },
     "metadata": {
      "needs_background": "light"
     },
     "output_type": "display_data"
    }
   ],
   "source": [
    "silhouette_scores_pca_resnet =  []\n",
    "\n",
    "for k in K:\n",
    "    agglo_model= AgglomerativeClustering(n_clusters=k, affinity='euclidean', linkage='single')\n",
    "    agglo_assignment_pca_resnet = agglo_model.fit_predict(test_data_2)\n",
    "    \n",
    "    agglo_silhouette_resnet = silhouette_score(test_data_2, agglo_assignment_pca_resnet)\n",
    "    silhouette_scores_pca_resnet.append(agglo_silhouette_resnet)\n",
    "    \n",
    "print(\"Best k for ResNet feature set:\",silhouette_scores_pca_resnet.index(max(silhouette_scores_pca_resnet))+2)\n",
    "\n",
    "plt.plot(K, silhouette_scores_pca_resnet, 'bo-')\n",
    "plt.xlabel('k')\n",
    "plt.ylabel('Silhouette scores PCA')\n",
    "plt.title('For Optimal k using ResNet50')\n",
    "plt.show()"
   ]
  },
  {
   "cell_type": "code",
   "execution_count": 53,
   "metadata": {},
   "outputs": [
    {
     "name": "stdout",
     "output_type": "stream",
     "text": [
      "Best k for PGE feature set: 9\n"
     ]
    },
    {
     "data": {
      "image/png": "[encoded data removed]",
      "text/plain": [
       "<Figure size 432x288 with 1 Axes>"
      ]
     },
     "metadata": {
      "needs_background": "light"
     },
     "output_type": "display_data"
    }
   ],
   "source": [
    "silhouette_scores_umap_pge =  []\n",
    "\n",
    "for k in K:\n",
    "    agglo_model= AgglomerativeClustering(n_clusters=k, affinity='euclidean', linkage='single')\n",
    "    agglo_assignment_umap_pge = agglo_model.fit_predict(test_data_1_2)\n",
    "    \n",
    "    agglo_silhouette_pge = silhouette_score(test_data_1_2, agglo_assignment_umap_pge)\n",
    "    silhouette_scores_umap_pge.append(agglo_silhouette_pge)\n",
    "    \n",
    "print(\"Best k for PGE feature set:\",silhouette_scores_umap_pge.index(max(silhouette_scores_umap_pge))+2)\n",
    "\n",
    "plt.plot(K, silhouette_scores_umap_pge, 'bo-')\n",
    "plt.xlabel('k')\n",
    "plt.ylabel('Silhouette scores UMAP')\n",
    "plt.title('For Optimal k using PGE')\n",
    "plt.show()"
   ]
  },
  {
   "cell_type": "code",
   "execution_count": 54,
   "metadata": {},
   "outputs": [
    {
     "name": "stdout",
     "output_type": "stream",
     "text": [
      "Best k for ResNet feature set: 20\n"
     ]
    },
    {
     "data": {
      "image/png": "[encoded data removed]",
      "text/plain": [
       "<Figure size 432x288 with 1 Axes>"
      ]
     },
     "metadata": {
      "needs_background": "light"
     },
     "output_type": "display_data"
    }
   ],
   "source": [
    "silhouette_scores_umap_resnet =  []\n",
    "\n",
    "for k in K:\n",
    "    agglo_model= AgglomerativeClustering(n_clusters=k, affinity='euclidean', linkage='single')\n",
    "    agglo_assignment_umap_resnet = agglo_model.fit_predict(test_data_2_2)\n",
    "    \n",
    "    agglo_silhouette_resnet = silhouette_score(test_data_2_2, agglo_assignment_umap_resnet)\n",
    "    silhouette_scores_umap_resnet.append(agglo_silhouette_resnet)\n",
    "    \n",
    "print(\"Best k for ResNet feature set:\",silhouette_scores_umap_resnet.index(max(silhouette_scores_umap_resnet))+2)\n",
    "\n",
    "plt.plot(K, silhouette_scores_umap_resnet, 'bo-')\n",
    "plt.xlabel('k')\n",
    "plt.ylabel('Silhouette scores UMAP')\n",
    "plt.title('For Optimal k using ResNet50')\n",
    "plt.show()"
   ]
  },
  {
   "cell_type": "code",
   "execution_count": 55,
   "metadata": {},
   "outputs": [
    {
     "name": "stdout",
     "output_type": "stream",
     "text": [
      "Best k for PGE feature set: 49\n"
     ]
    },
    {
     "data": {
      "image/png": "[encoded data removed]",
      "text/plain": [
       "<Figure size 432x288 with 1 Axes>"
      ]
     },
     "metadata": {
      "needs_background": "light"
     },
     "output_type": "display_data"
    }
   ],
   "source": [
    "v_measure_scores_pca_pge =  []\n",
    "\n",
    "for k in K:\n",
    "    agglo_model= AgglomerativeClustering(n_clusters=k, affinity='euclidean', linkage='single')\n",
    "    agglo_assignment_pca_pge = agglo_model.fit_predict(test_data_1)\n",
    "\n",
    "    agglo_v_measure_pge = v_measure_score(labels_pge, agglo_assignment_pca_pge)\n",
    "    v_measure_scores_pca_pge.append(agglo_v_measure_pge)\n",
    "    \n",
    "print(\"Best k for PGE feature set:\",v_measure_scores_pca_pge.index(max(v_measure_scores_pca_pge))+2)\n",
    "\n",
    "plt.plot(K, v_measure_scores_pca_pge, 'bo-')\n",
    "plt.xlabel('k')\n",
    "plt.ylabel('V-Measure scores PCA')\n",
    "plt.title('For Optimal k using PGE')\n",
    "plt.show()"
   ]
  },
  {
   "cell_type": "code",
   "execution_count": 56,
   "metadata": {},
   "outputs": [
    {
     "name": "stdout",
     "output_type": "stream",
     "text": [
      "Best k for PGE feature set: 12\n"
     ]
    },
    {
     "data": {
      "image/png": "[encoded data removed]",
      "text/plain": [
       "<Figure size 432x288 with 1 Axes>"
      ]
     },
     "metadata": {
      "needs_background": "light"
     },
     "output_type": "display_data"
    }
   ],
   "source": [
    "v_measure_scores_umap_pge =  []\n",
    "for k in K:\n",
    "    agglo_model= AgglomerativeClustering(n_clusters=k, affinity='euclidean', linkage='single')\n",
    "    agglo_assignment_umap_pge = agglo_model.fit_predict(test_data_1_2)\n",
    "\n",
    "    agglo_v_measure_pge = v_measure_score(labels_pge, agglo_assignment_umap_pge)\n",
    "    v_measure_scores_umap_pge.append(agglo_v_measure_pge)\n",
    "    \n",
    "print(\"Best k for PGE feature set:\",v_measure_scores_umap_pge.index(max(v_measure_scores_umap_pge))+2)\n",
    "\n",
    "plt.plot(K, v_measure_scores_umap_pge, 'bo-')\n",
    "plt.xlabel('k')\n",
    "plt.ylabel('V-Measure scores UMAP')\n",
    "plt.title('For Optimal k using PGE')\n",
    "plt.show()"
   ]
  },
  {
   "cell_type": "code",
   "execution_count": 57,
   "metadata": {},
   "outputs": [
    {
     "name": "stdout",
     "output_type": "stream",
     "text": [
      "Best k for ResNet feature set: 49\n"
     ]
    },
    {
     "data": {
      "image/png": "[encoded data removed]",
      "text/plain": [
       "<Figure size 432x288 with 1 Axes>"
      ]
     },
     "metadata": {
      "needs_background": "light"
     },
     "output_type": "display_data"
    }
   ],
   "source": [
    "v_measure_scores_pca_resnet =  []\n",
    "for k in K:\n",
    "    agglo_model= AgglomerativeClustering(n_clusters=k, affinity='euclidean', linkage='single')\n",
    "    agglo_assignment_pca_resnet = agglo_model.fit_predict(test_data_2)\n",
    "\n",
    "    agglo_v_measure_resnet = v_measure_score(labels_pge, agglo_assignment_pca_resnet)\n",
    "    v_measure_scores_pca_resnet.append(agglo_v_measure_resnet)\n",
    "    \n",
    "print(\"Best k for ResNet feature set:\",v_measure_scores_pca_resnet.index(max(v_measure_scores_pca_resnet))+2)\n",
    "\n",
    "plt.plot(K, v_measure_scores_pca_resnet, 'bo-')\n",
    "plt.xlabel('k')\n",
    "plt.ylabel('V-Measure scores PCA')\n",
    "plt.title('For Optimal k using ResNet')\n",
    "plt.show()"
   ]
  },
  {
   "cell_type": "code",
   "execution_count": 58,
   "metadata": {
    "scrolled": true
   },
   "outputs": [
    {
     "name": "stdout",
     "output_type": "stream",
     "text": [
      "Best k for ResNet feature set: 33\n"
     ]
    },
    {
     "data": {
      "image/png": "[encoded data removed]",
      "text/plain": [
       "<Figure size 432x288 with 1 Axes>"
      ]
     },
     "metadata": {
      "needs_background": "light"
     },
     "output_type": "display_data"
    }
   ],
   "source": [
    "v_measure_scores_umap_resnet =  []\n",
    "for k in K:\n",
    "    agglo_model= AgglomerativeClustering(n_clusters=k, affinity='euclidean', linkage='single')\n",
    "    agglo_assignment_umap_resnet = agglo_model.fit_predict(test_data_2_2)\n",
    "\n",
    "    agglo_v_measure_resnet = v_measure_score(labels_pge, agglo_assignment_umap_resnet)\n",
    "    v_measure_scores_umap_resnet.append(agglo_v_measure_resnet)\n",
    "    \n",
    "print(\"Best k for ResNet feature set:\",v_measure_scores_umap_resnet.index(max(v_measure_scores_umap_resnet))+2)\n",
    "\n",
    "plt.plot(K, v_measure_scores_umap_resnet, 'bo-')\n",
    "plt.xlabel('k')\n",
    "plt.ylabel('V-Measure scores UMAP')\n",
    "plt.title('For Optimal k using ResNet')\n",
    "plt.show()"
   ]
  },
  {
   "cell_type": "markdown",
   "metadata": {},
   "source": [
    "### Final Metrics of Agglomerative Clustering using Linkage='single'"
   ]
  },
  {
   "cell_type": "code",
   "execution_count": 59,
   "metadata": {},
   "outputs": [
    {
     "name": "stdout",
     "output_type": "stream",
     "text": [
      "Linkage='Single'\n"
     ]
    },
    {
     "data": {
      "text/html": [
       "<div>\n",
       "<style scoped>\n",
       "    .dataframe tbody tr th:only-of-type {\n",
       "        vertical-align: middle;\n",
       "    }\n",
       "\n",
       "    .dataframe tbody tr th {\n",
       "        vertical-align: top;\n",
       "    }\n",
       "\n",
       "    .dataframe thead th {\n",
       "        text-align: right;\n",
       "    }\n",
       "</style>\n",
       "<table border=\"1\" class=\"dataframe\">\n",
       "  <thead>\n",
       "    <tr style=\"text-align: right;\">\n",
       "      <th></th>\n",
       "      <th>PGE</th>\n",
       "      <th>ResNet50</th>\n",
       "    </tr>\n",
       "    <tr>\n",
       "      <th>Metrics</th>\n",
       "      <th></th>\n",
       "      <th></th>\n",
       "    </tr>\n",
       "  </thead>\n",
       "  <tbody>\n",
       "    <tr>\n",
       "      <th>silhouette-PCA</th>\n",
       "      <td>0.344508</td>\n",
       "      <td>0.111404</td>\n",
       "    </tr>\n",
       "    <tr>\n",
       "      <th>silhouette-UMAP</th>\n",
       "      <td>0.533373</td>\n",
       "      <td>0.666218</td>\n",
       "    </tr>\n",
       "    <tr>\n",
       "      <th>VMeasure-PCA</th>\n",
       "      <td>0.019766</td>\n",
       "      <td>0.019899</td>\n",
       "    </tr>\n",
       "    <tr>\n",
       "      <th>VMeasure-UMAP</th>\n",
       "      <td>0.505295</td>\n",
       "      <td>0.607453</td>\n",
       "    </tr>\n",
       "  </tbody>\n",
       "</table>\n",
       "</div>"
      ],
      "text/plain": [
       "                      PGE  ResNet50\n",
       "Metrics                            \n",
       "silhouette-PCA   0.344508  0.111404\n",
       "silhouette-UMAP  0.533373  0.666218\n",
       "VMeasure-PCA     0.019766  0.019899\n",
       "VMeasure-UMAP    0.505295  0.607453"
      ]
     },
     "execution_count": 59,
     "metadata": {},
     "output_type": "execute_result"
    }
   ],
   "source": [
    "pge_pca_silhouette_score = max(silhouette_scores_pca_pge)\n",
    "pge_umap_silhouette_score = max(silhouette_scores_umap_pge)\n",
    "resnet_pca_silhouette_score = max(silhouette_scores_pca_resnet)\n",
    "resnet_umap_silhouette_score = max(silhouette_scores_umap_resnet)\n",
    "\n",
    "pge_pca_v_measure = max(v_measure_scores_pca_pge)\n",
    "pge_umap_v_measure = max(v_measure_scores_umap_pge)\n",
    "resnet_pca_v_measure = max(v_measure_scores_pca_resnet)\n",
    "resnet_umap_v_measure = max(v_measure_scores_umap_resnet)\n",
    "print(\"Linkage='Single'\")\n",
    "df_single = pd.DataFrame({'Metrics': ['silhouette-PCA', 'silhouette-UMAP','VMeasure-PCA','VMeasure-UMAP'], 'PGE': [pge_pca_silhouette_score,pge_umap_silhouette_score,pge_pca_v_measure,pge_umap_v_measure ],'ResNet50':[resnet_pca_silhouette_score, resnet_umap_silhouette_score,resnet_pca_v_measure,resnet_umap_v_measure]}).set_index('Metrics')\n",
    "df_single"
   ]
  },
  {
   "cell_type": "markdown",
   "metadata": {},
   "source": [
    "### Now, we are changing the linkage = 'ward', due to the nature of the feature set and to join the nearest branch based on the variance of each cluster."
   ]
  },
  {
   "cell_type": "code",
   "execution_count": 60,
   "metadata": {},
   "outputs": [
    {
     "name": "stdout",
     "output_type": "stream",
     "text": [
      "Best k for PGE feature set: 2\n"
     ]
    },
    {
     "data": {
      "image/png": "[encoded data removed]",
      "text/plain": [
       "<Figure size 432x288 with 1 Axes>"
      ]
     },
     "metadata": {
      "needs_background": "light"
     },
     "output_type": "display_data"
    }
   ],
   "source": [
    "silhouette_scores_pca_pge =  []\n",
    "for k in K:\n",
    "    agglo_model= AgglomerativeClustering(n_clusters=k, affinity='euclidean', linkage='ward')\n",
    "    agglo_assignment_pca_pge = agglo_model.fit_predict(test_data_1)\n",
    "    \n",
    "    agglo_silhouette_pge = silhouette_score(test_data_1, agglo_assignment_pca_pge)\n",
    "    silhouette_scores_pca_pge.append(agglo_silhouette_pge)\n",
    "    \n",
    "print(\"Best k for PGE feature set:\",silhouette_scores_pca_pge.index(max(silhouette_scores_pca_pge))+2)\n",
    "\n",
    "plt.plot(K, silhouette_scores_pca_pge, 'bo-')\n",
    "plt.xlabel('k')\n",
    "plt.ylabel('Silhouette scores PCA')\n",
    "plt.title('For Optimal k using PGE')\n",
    "plt.show()\n"
   ]
  },
  {
   "cell_type": "code",
   "execution_count": 61,
   "metadata": {},
   "outputs": [
    {
     "name": "stdout",
     "output_type": "stream",
     "text": [
      "Best k for PGE feature set: 7\n"
     ]
    },
    {
     "data": {
      "image/png": "[encoded data removed]",
      "text/plain": [
       "<Figure size 432x288 with 1 Axes>"
      ]
     },
     "metadata": {
      "needs_background": "light"
     },
     "output_type": "display_data"
    }
   ],
   "source": [
    "silhouette_scores_umap_pge =  []\n",
    "\n",
    "for k in K:\n",
    "    agglo_model= AgglomerativeClustering(n_clusters=k, affinity='euclidean', linkage='ward')\n",
    "    agglo_assignment_umap_pge = agglo_model.fit_predict(test_data_1_2)\n",
    "    \n",
    "    agglo_silhouette_pge = silhouette_score(test_data_1_2, agglo_assignment_umap_pge)\n",
    "    silhouette_scores_umap_pge.append(agglo_silhouette_pge)\n",
    "    \n",
    "print(\"Best k for PGE feature set:\",silhouette_scores_umap_pge.index(max(silhouette_scores_umap_pge))+2)\n",
    "\n",
    "plt.plot(K, silhouette_scores_umap_pge, 'bo-')\n",
    "plt.xlabel('k')\n",
    "plt.ylabel('Silhouette scores UMAP')\n",
    "plt.title('For Optimal k using PGE')\n",
    "plt.show()\n"
   ]
  },
  {
   "cell_type": "code",
   "execution_count": 62,
   "metadata": {},
   "outputs": [
    {
     "name": "stdout",
     "output_type": "stream",
     "text": [
      "Best k for ResNet feature set: 4\n"
     ]
    },
    {
     "data": {
      "image/png": "[encoded data removed]",
      "text/plain": [
       "<Figure size 432x288 with 1 Axes>"
      ]
     },
     "metadata": {
      "needs_background": "light"
     },
     "output_type": "display_data"
    }
   ],
   "source": [
    "silhouette_scores_pca_resnet =  []\n",
    "\n",
    "for k in K:\n",
    "    agglo_model= AgglomerativeClustering(n_clusters=k, affinity='euclidean', linkage='ward')\n",
    "    agglo_assignment_pca_resnet = agglo_model.fit_predict(test_data_2)\n",
    "    \n",
    "    agglo_silhouette_resnet = silhouette_score(test_data_2, agglo_assignment_pca_resnet)\n",
    "    silhouette_scores_pca_resnet.append(agglo_silhouette_resnet)\n",
    "    \n",
    "print(\"Best k for ResNet feature set:\",silhouette_scores_pca_resnet.index(max(silhouette_scores_pca_resnet))+2)\n",
    "\n",
    "plt.plot(K, silhouette_scores_pca_resnet, 'bo-')\n",
    "plt.xlabel('k')\n",
    "plt.ylabel('Silhouette scores PCA')\n",
    "plt.title('For Optimal k using ResNet50')\n",
    "plt.show()"
   ]
  },
  {
   "cell_type": "code",
   "execution_count": 63,
   "metadata": {},
   "outputs": [
    {
     "name": "stdout",
     "output_type": "stream",
     "text": [
      "Best k for ResNet feature set: 5\n"
     ]
    },
    {
     "data": {
      "image/png": "[encoded data removed]",
      "text/plain": [
       "<Figure size 432x288 with 1 Axes>"
      ]
     },
     "metadata": {
      "needs_background": "light"
     },
     "output_type": "display_data"
    }
   ],
   "source": [
    "silhouette_scores_umap_resnet =  []\n",
    "\n",
    "for k in K:\n",
    "    agglo_model= AgglomerativeClustering(n_clusters=k, affinity='euclidean', linkage='ward')\n",
    "    agglo_assignment_umap_resnet = agglo_model.fit_predict(test_data_2_2)\n",
    "    \n",
    "    agglo_silhouette_resnet = silhouette_score(test_data_2_2, agglo_assignment_umap_resnet)\n",
    "    silhouette_scores_umap_resnet.append(agglo_silhouette_resnet)\n",
    "    \n",
    "print(\"Best k for ResNet feature set:\",silhouette_scores_umap_resnet.index(max(silhouette_scores_umap_resnet))+2)\n",
    "\n",
    "plt.plot(K, silhouette_scores_umap_resnet, 'bo-')\n",
    "plt.xlabel('k')\n",
    "plt.ylabel('Silhouette scores UMAP')\n",
    "plt.title('For Optimal k using ResNet50')\n",
    "plt.show()"
   ]
  },
  {
   "cell_type": "code",
   "execution_count": 64,
   "metadata": {},
   "outputs": [
    {
     "name": "stdout",
     "output_type": "stream",
     "text": [
      "Best k for PGE feature set: 26\n"
     ]
    },
    {
     "data": {
      "image/png": "[encoded data removed]",
      "text/plain": [
       "<Figure size 432x288 with 1 Axes>"
      ]
     },
     "metadata": {
      "needs_background": "light"
     },
     "output_type": "display_data"
    }
   ],
   "source": [
    "v_measure_scores_pca_pge =  []\n",
    "for k in K:\n",
    "    agglo_model= AgglomerativeClustering(n_clusters=k, affinity='euclidean', linkage='ward')\n",
    "    agglo_assignment_pca_pge = agglo_model.fit_predict(test_data_1)\n",
    "\n",
    "    agglo_v_measure_pge = v_measure_score(labels_pge, agglo_assignment_pca_pge)\n",
    "    v_measure_scores_pca_pge.append(agglo_v_measure_pge)\n",
    "    \n",
    "print(\"Best k for PGE feature set:\",v_measure_scores_pca_pge.index(max(v_measure_scores_pca_pge))+2)\n",
    "\n",
    "plt.plot(K, v_measure_scores_pca_pge, 'bo-')\n",
    "plt.xlabel('k')\n",
    "plt.ylabel('V-Measure scores PCA')\n",
    "plt.title('For Optimal k using PGE')\n",
    "plt.show()"
   ]
  },
  {
   "cell_type": "code",
   "execution_count": 65,
   "metadata": {},
   "outputs": [
    {
     "name": "stdout",
     "output_type": "stream",
     "text": [
      "Best k for PGE feature set: 18\n"
     ]
    },
    {
     "data": {
      "image/png": "[encoded data removed]",
      "text/plain": [
       "<Figure size 432x288 with 1 Axes>"
      ]
     },
     "metadata": {
      "needs_background": "light"
     },
     "output_type": "display_data"
    }
   ],
   "source": [
    "v_measure_scores_umap_pge =  []\n",
    "for k in K:\n",
    "    agglo_model= AgglomerativeClustering(n_clusters=k, affinity='euclidean', linkage='ward')\n",
    "    agglo_assignment_umap_pge = agglo_model.fit_predict(test_data_1_2)\n",
    "\n",
    "    agglo_v_measure_pge = v_measure_score(labels_pge, agglo_assignment_umap_pge)\n",
    "    v_measure_scores_umap_pge.append(agglo_v_measure_pge)\n",
    "    \n",
    "print(\"Best k for PGE feature set:\",v_measure_scores_umap_pge.index(max(v_measure_scores_umap_pge))+2)\n",
    "\n",
    "plt.plot(K, v_measure_scores_umap_pge, 'bo-')\n",
    "plt.xlabel('k')\n",
    "plt.ylabel('V-Measure scores UMAP')\n",
    "plt.title('For Optimal k using PGE')\n",
    "plt.show()"
   ]
  },
  {
   "cell_type": "code",
   "execution_count": 66,
   "metadata": {},
   "outputs": [
    {
     "name": "stdout",
     "output_type": "stream",
     "text": [
      "Best k for ResNet feature set: 12\n"
     ]
    },
    {
     "data": {
      "image/png": "[encoded data removed]",
      "text/plain": [
       "<Figure size 432x288 with 1 Axes>"
      ]
     },
     "metadata": {
      "needs_background": "light"
     },
     "output_type": "display_data"
    }
   ],
   "source": [
    "v_measure_scores_pca_resnet =  []\n",
    "for k in K:\n",
    "    agglo_model= AgglomerativeClustering(n_clusters=k, affinity='euclidean', linkage='ward')\n",
    "    agglo_assignment_pca_resnet = agglo_model.fit_predict(test_data_2)\n",
    "\n",
    "    agglo_v_measure_resnet = v_measure_score(labels_resnet, agglo_assignment_pca_resnet)\n",
    "    v_measure_scores_pca_resnet.append(agglo_v_measure_resnet)\n",
    "    \n",
    "print(\"Best k for ResNet feature set:\",v_measure_scores_pca_resnet.index(max(v_measure_scores_pca_resnet))+2)\n",
    "\n",
    "plt.plot(K, v_measure_scores_pca_resnet, 'bo-')\n",
    "plt.xlabel('k')\n",
    "plt.ylabel('V-Measure scores PCA')\n",
    "plt.title('For Optimal k using ResNet')\n",
    "plt.show()"
   ]
  },
  {
   "cell_type": "code",
   "execution_count": 67,
   "metadata": {
    "scrolled": true
   },
   "outputs": [
    {
     "name": "stdout",
     "output_type": "stream",
     "text": [
      "Best k for ResNet feature set: 15\n"
     ]
    },
    {
     "data": {
      "image/png": "[encoded data removed]",
      "text/plain": [
       "<Figure size 432x288 with 1 Axes>"
      ]
     },
     "metadata": {
      "needs_background": "light"
     },
     "output_type": "display_data"
    }
   ],
   "source": [
    "v_measure_scores_umap_resnet =  []\n",
    "for k in K:\n",
    "    agglo_model= AgglomerativeClustering(n_clusters=k, affinity='euclidean', linkage='ward')\n",
    "    agglo_assignment_umap_resnet = agglo_model.fit_predict(test_data_2_2)\n",
    "\n",
    "    agglo_v_measure_resnet = v_measure_score(labels_resnet, agglo_assignment_umap_resnet)\n",
    "    v_measure_scores_umap_resnet.append(agglo_v_measure_resnet)\n",
    "    \n",
    "print(\"Best k for ResNet feature set:\",v_measure_scores_umap_resnet.index(max(v_measure_scores_umap_resnet))+2)\n",
    "\n",
    "plt.plot(K, v_measure_scores_umap_resnet, 'bo-')\n",
    "plt.xlabel('k')\n",
    "plt.ylabel('V-Measure scores UMAP')\n",
    "plt.title('For Optimal k using ResNet')\n",
    "plt.show()"
   ]
  },
  {
   "cell_type": "markdown",
   "metadata": {},
   "source": [
    "## Final Metrics for Agglomerative Clustering using Linkage='ward'"
   ]
  },
  {
   "cell_type": "code",
   "execution_count": 68,
   "metadata": {},
   "outputs": [
    {
     "name": "stdout",
     "output_type": "stream",
     "text": [
      "Linkage='Ward'\n"
     ]
    },
    {
     "data": {
      "text/html": [
       "<div>\n",
       "<style scoped>\n",
       "    .dataframe tbody tr th:only-of-type {\n",
       "        vertical-align: middle;\n",
       "    }\n",
       "\n",
       "    .dataframe tbody tr th {\n",
       "        vertical-align: top;\n",
       "    }\n",
       "\n",
       "    .dataframe thead th {\n",
       "        text-align: right;\n",
       "    }\n",
       "</style>\n",
       "<table border=\"1\" class=\"dataframe\">\n",
       "  <thead>\n",
       "    <tr style=\"text-align: right;\">\n",
       "      <th></th>\n",
       "      <th>PGE</th>\n",
       "      <th>ResNet50</th>\n",
       "    </tr>\n",
       "    <tr>\n",
       "      <th>Metrics</th>\n",
       "      <th></th>\n",
       "      <th></th>\n",
       "    </tr>\n",
       "  </thead>\n",
       "  <tbody>\n",
       "    <tr>\n",
       "      <th>silhouette-PCA</th>\n",
       "      <td>0.319998</td>\n",
       "      <td>0.151562</td>\n",
       "    </tr>\n",
       "    <tr>\n",
       "      <th>silhouette-UMAP</th>\n",
       "      <td>0.615047</td>\n",
       "      <td>0.610128</td>\n",
       "    </tr>\n",
       "    <tr>\n",
       "      <th>VMeasure-PCA</th>\n",
       "      <td>0.450976</td>\n",
       "      <td>0.576000</td>\n",
       "    </tr>\n",
       "    <tr>\n",
       "      <th>VMeasure-UMAP</th>\n",
       "      <td>0.566360</td>\n",
       "      <td>0.729171</td>\n",
       "    </tr>\n",
       "  </tbody>\n",
       "</table>\n",
       "</div>"
      ],
      "text/plain": [
       "                      PGE  ResNet50\n",
       "Metrics                            \n",
       "silhouette-PCA   0.319998  0.151562\n",
       "silhouette-UMAP  0.615047  0.610128\n",
       "VMeasure-PCA     0.450976  0.576000\n",
       "VMeasure-UMAP    0.566360  0.729171"
      ]
     },
     "execution_count": 68,
     "metadata": {},
     "output_type": "execute_result"
    }
   ],
   "source": [
    "pge_pca_silhouette_score = max(silhouette_scores_pca_pge)\n",
    "pge_umap_silhouette_score = max(silhouette_scores_umap_pge)\n",
    "resnet_pca_silhouette_score = max(silhouette_scores_pca_resnet)\n",
    "resnet_umap_silhouette_score = max(silhouette_scores_umap_resnet)\n",
    "\n",
    "pge_pca_v_measure = max(v_measure_scores_pca_pge)\n",
    "pge_umap_v_measure = max(v_measure_scores_umap_pge)\n",
    "resnet_pca_v_measure = max(v_measure_scores_pca_resnet)\n",
    "resnet_umap_v_measure = max(v_measure_scores_umap_resnet)\n",
    "print(\"Linkage='Ward'\")\n",
    "df_ward = pd.DataFrame({'Metrics': ['silhouette-PCA', 'silhouette-UMAP','VMeasure-PCA','VMeasure-UMAP'], 'PGE': [pge_pca_silhouette_score,pge_umap_silhouette_score,pge_pca_v_measure,pge_umap_v_measure ],'ResNet50':[resnet_pca_silhouette_score, resnet_umap_silhouette_score,resnet_pca_v_measure,resnet_umap_v_measure]}).set_index('Metrics')\n",
    "df_ward"
   ]
  },
  {
   "cell_type": "markdown",
   "metadata": {},
   "source": [
    "### Metrics Comparison for Agglomerative Clustering (Linkage = 'Ward' vs Linkage = 'single'):"
   ]
  },
  {
   "cell_type": "code",
   "execution_count": 69,
   "metadata": {},
   "outputs": [
    {
     "name": "stdout",
     "output_type": "stream",
     "text": [
      "Linkage: Ward\n"
     ]
    },
    {
     "data": {
      "text/html": [
       "<div>\n",
       "<style scoped>\n",
       "    .dataframe tbody tr th:only-of-type {\n",
       "        vertical-align: middle;\n",
       "    }\n",
       "\n",
       "    .dataframe tbody tr th {\n",
       "        vertical-align: top;\n",
       "    }\n",
       "\n",
       "    .dataframe thead th {\n",
       "        text-align: right;\n",
       "    }\n",
       "</style>\n",
       "<table border=\"1\" class=\"dataframe\">\n",
       "  <thead>\n",
       "    <tr style=\"text-align: right;\">\n",
       "      <th></th>\n",
       "      <th>PGE</th>\n",
       "      <th>ResNet50</th>\n",
       "    </tr>\n",
       "    <tr>\n",
       "      <th>Metrics</th>\n",
       "      <th></th>\n",
       "      <th></th>\n",
       "    </tr>\n",
       "  </thead>\n",
       "  <tbody>\n",
       "    <tr>\n",
       "      <th>silhouette-PCA</th>\n",
       "      <td>0.319998</td>\n",
       "      <td>0.151562</td>\n",
       "    </tr>\n",
       "    <tr>\n",
       "      <th>silhouette-UMAP</th>\n",
       "      <td>0.615047</td>\n",
       "      <td>0.610128</td>\n",
       "    </tr>\n",
       "    <tr>\n",
       "      <th>VMeasure-PCA</th>\n",
       "      <td>0.450976</td>\n",
       "      <td>0.576000</td>\n",
       "    </tr>\n",
       "    <tr>\n",
       "      <th>VMeasure-UMAP</th>\n",
       "      <td>0.566360</td>\n",
       "      <td>0.729171</td>\n",
       "    </tr>\n",
       "  </tbody>\n",
       "</table>\n",
       "</div>"
      ],
      "text/plain": [
       "                      PGE  ResNet50\n",
       "Metrics                            \n",
       "silhouette-PCA   0.319998  0.151562\n",
       "silhouette-UMAP  0.615047  0.610128\n",
       "VMeasure-PCA     0.450976  0.576000\n",
       "VMeasure-UMAP    0.566360  0.729171"
      ]
     },
     "metadata": {},
     "output_type": "display_data"
    },
    {
     "name": "stdout",
     "output_type": "stream",
     "text": [
      "Linkage: Single\n"
     ]
    },
    {
     "data": {
      "text/html": [
       "<div>\n",
       "<style scoped>\n",
       "    .dataframe tbody tr th:only-of-type {\n",
       "        vertical-align: middle;\n",
       "    }\n",
       "\n",
       "    .dataframe tbody tr th {\n",
       "        vertical-align: top;\n",
       "    }\n",
       "\n",
       "    .dataframe thead th {\n",
       "        text-align: right;\n",
       "    }\n",
       "</style>\n",
       "<table border=\"1\" class=\"dataframe\">\n",
       "  <thead>\n",
       "    <tr style=\"text-align: right;\">\n",
       "      <th></th>\n",
       "      <th>PGE</th>\n",
       "      <th>ResNet50</th>\n",
       "    </tr>\n",
       "    <tr>\n",
       "      <th>Metrics</th>\n",
       "      <th></th>\n",
       "      <th></th>\n",
       "    </tr>\n",
       "  </thead>\n",
       "  <tbody>\n",
       "    <tr>\n",
       "      <th>silhouette-PCA</th>\n",
       "      <td>0.344508</td>\n",
       "      <td>0.111404</td>\n",
       "    </tr>\n",
       "    <tr>\n",
       "      <th>silhouette-UMAP</th>\n",
       "      <td>0.533373</td>\n",
       "      <td>0.666218</td>\n",
       "    </tr>\n",
       "    <tr>\n",
       "      <th>VMeasure-PCA</th>\n",
       "      <td>0.019766</td>\n",
       "      <td>0.019899</td>\n",
       "    </tr>\n",
       "    <tr>\n",
       "      <th>VMeasure-UMAP</th>\n",
       "      <td>0.505295</td>\n",
       "      <td>0.607453</td>\n",
       "    </tr>\n",
       "  </tbody>\n",
       "</table>\n",
       "</div>"
      ],
      "text/plain": [
       "                      PGE  ResNet50\n",
       "Metrics                            \n",
       "silhouette-PCA   0.344508  0.111404\n",
       "silhouette-UMAP  0.533373  0.666218\n",
       "VMeasure-PCA     0.019766  0.019899\n",
       "VMeasure-UMAP    0.505295  0.607453"
      ]
     },
     "metadata": {},
     "output_type": "display_data"
    }
   ],
   "source": [
    "print(\"Linkage: Ward\")\n",
    "display(df_ward)\n",
    "print(\"Linkage: Single\")\n",
    "display(df_single)"
   ]
  },
  {
   "cell_type": "markdown",
   "metadata": {},
   "source": [
    "### Overall, we can observe that we get better perfomance scores and accpetable clusters when we cluster with the respect to the variance of each cluster i.e. when linkage = 'ward'."
   ]
  },
  {
   "cell_type": "markdown",
   "metadata": {},
   "source": [
    "### Since, the ground truth labels are also available for the both feature set, we consider the performance measurements using V-measure whose values are close to 1 for both the projections. The optimal cluster 'k' where we get the best cluster quality is provided below along with its members:"
   ]
  },
  {
   "cell_type": "code",
   "execution_count": 70,
   "metadata": {},
   "outputs": [],
   "source": [
    "best_k_pge_pca_v_measure = v_measure_scores_pca_pge.index(max(v_measure_scores_pca_pge))+2\n",
    "best_k_pge_umap_v_measure = v_measure_scores_umap_pge.index(max(v_measure_scores_umap_pge))+2\n",
    "best_k_resnet_pca_v_measure = v_measure_scores_pca_resnet.index(max(v_measure_scores_pca_resnet))+2\n",
    "best_k_resnet_umap_v_measure = v_measure_scores_umap_resnet.index(max(v_measure_scores_umap_resnet))+2"
   ]
  },
  {
   "cell_type": "code",
   "execution_count": 71,
   "metadata": {},
   "outputs": [
    {
     "name": "stdout",
     "output_type": "stream",
     "text": [
      "Using PCA:\n",
      "AgglomerativeClustering-PGE_PCA assignment counts\n"
     ]
    },
    {
     "data": {
      "text/html": [
       "<div>\n",
       "<style scoped>\n",
       "    .dataframe tbody tr th:only-of-type {\n",
       "        vertical-align: middle;\n",
       "    }\n",
       "\n",
       "    .dataframe tbody tr th {\n",
       "        vertical-align: top;\n",
       "    }\n",
       "\n",
       "    .dataframe thead th {\n",
       "        text-align: right;\n",
       "    }\n",
       "</style>\n",
       "<table border=\"1\" class=\"dataframe\">\n",
       "  <thead>\n",
       "    <tr style=\"text-align: right;\">\n",
       "      <th></th>\n",
       "      <th>Number of members</th>\n",
       "    </tr>\n",
       "    <tr>\n",
       "      <th>Cluster Index</th>\n",
       "      <th></th>\n",
       "    </tr>\n",
       "  </thead>\n",
       "  <tbody>\n",
       "    <tr>\n",
       "      <th>0</th>\n",
       "      <td>463</td>\n",
       "    </tr>\n",
       "    <tr>\n",
       "      <th>1</th>\n",
       "      <td>293</td>\n",
       "    </tr>\n",
       "    <tr>\n",
       "      <th>2</th>\n",
       "      <td>511</td>\n",
       "    </tr>\n",
       "    <tr>\n",
       "      <th>3</th>\n",
       "      <td>236</td>\n",
       "    </tr>\n",
       "    <tr>\n",
       "      <th>4</th>\n",
       "      <td>30</td>\n",
       "    </tr>\n",
       "    <tr>\n",
       "      <th>5</th>\n",
       "      <td>121</td>\n",
       "    </tr>\n",
       "    <tr>\n",
       "      <th>6</th>\n",
       "      <td>184</td>\n",
       "    </tr>\n",
       "    <tr>\n",
       "      <th>7</th>\n",
       "      <td>197</td>\n",
       "    </tr>\n",
       "    <tr>\n",
       "      <th>8</th>\n",
       "      <td>233</td>\n",
       "    </tr>\n",
       "    <tr>\n",
       "      <th>9</th>\n",
       "      <td>164</td>\n",
       "    </tr>\n",
       "    <tr>\n",
       "      <th>10</th>\n",
       "      <td>66</td>\n",
       "    </tr>\n",
       "    <tr>\n",
       "      <th>11</th>\n",
       "      <td>209</td>\n",
       "    </tr>\n",
       "    <tr>\n",
       "      <th>12</th>\n",
       "      <td>87</td>\n",
       "    </tr>\n",
       "    <tr>\n",
       "      <th>13</th>\n",
       "      <td>204</td>\n",
       "    </tr>\n",
       "    <tr>\n",
       "      <th>14</th>\n",
       "      <td>239</td>\n",
       "    </tr>\n",
       "    <tr>\n",
       "      <th>15</th>\n",
       "      <td>105</td>\n",
       "    </tr>\n",
       "    <tr>\n",
       "      <th>16</th>\n",
       "      <td>453</td>\n",
       "    </tr>\n",
       "    <tr>\n",
       "      <th>17</th>\n",
       "      <td>76</td>\n",
       "    </tr>\n",
       "    <tr>\n",
       "      <th>18</th>\n",
       "      <td>201</td>\n",
       "    </tr>\n",
       "    <tr>\n",
       "      <th>19</th>\n",
       "      <td>173</td>\n",
       "    </tr>\n",
       "    <tr>\n",
       "      <th>20</th>\n",
       "      <td>242</td>\n",
       "    </tr>\n",
       "    <tr>\n",
       "      <th>21</th>\n",
       "      <td>104</td>\n",
       "    </tr>\n",
       "    <tr>\n",
       "      <th>22</th>\n",
       "      <td>104</td>\n",
       "    </tr>\n",
       "    <tr>\n",
       "      <th>23</th>\n",
       "      <td>183</td>\n",
       "    </tr>\n",
       "    <tr>\n",
       "      <th>24</th>\n",
       "      <td>40</td>\n",
       "    </tr>\n",
       "    <tr>\n",
       "      <th>25</th>\n",
       "      <td>82</td>\n",
       "    </tr>\n",
       "  </tbody>\n",
       "</table>\n",
       "</div>"
      ],
      "text/plain": [
       "               Number of members\n",
       "Cluster Index                   \n",
       "0                            463\n",
       "1                            293\n",
       "2                            511\n",
       "3                            236\n",
       "4                             30\n",
       "5                            121\n",
       "6                            184\n",
       "7                            197\n",
       "8                            233\n",
       "9                            164\n",
       "10                            66\n",
       "11                           209\n",
       "12                            87\n",
       "13                           204\n",
       "14                           239\n",
       "15                           105\n",
       "16                           453\n",
       "17                            76\n",
       "18                           201\n",
       "19                           173\n",
       "20                           242\n",
       "21                           104\n",
       "22                           104\n",
       "23                           183\n",
       "24                            40\n",
       "25                            82"
      ]
     },
     "execution_count": 71,
     "metadata": {},
     "output_type": "execute_result"
    }
   ],
   "source": [
    "print('Using PCA:')\n",
    "agglo_model= AgglomerativeClustering(n_clusters=best_k_pge_pca_v_measure, affinity='euclidean', linkage='ward')\n",
    "agglo_assignment_pca_pge = agglo_model.fit_predict(test_data_1)\n",
    "\n",
    "# print('Number of clusters from Agglomerative-PGE: %d and from Agglomerative-ResNet: %d'%(np.unique(agglo_assignment_pca_pge).shape[0],np.unique(kmeans_assignment_resnet).shape[0]))\n",
    "\n",
    "agglo_counts_pge = np.unique(agglo_assignment_pca_pge, return_counts = True)\n",
    "pge_df = pd.DataFrame({'Cluster Index': agglo_counts_pge[0], 'Number of members':agglo_counts_pge[1]}).set_index('Cluster Index')\n",
    "\n",
    "\n",
    "print('AgglomerativeClustering-PGE_PCA assignment counts')\n",
    "pge_df"
   ]
  },
  {
   "cell_type": "code",
   "execution_count": 72,
   "metadata": {},
   "outputs": [
    {
     "name": "stdout",
     "output_type": "stream",
     "text": [
      "AgglomerativeClustering-Resnet_PCA assignment counts\n"
     ]
    },
    {
     "data": {
      "text/html": [
       "<div>\n",
       "<style scoped>\n",
       "    .dataframe tbody tr th:only-of-type {\n",
       "        vertical-align: middle;\n",
       "    }\n",
       "\n",
       "    .dataframe tbody tr th {\n",
       "        vertical-align: top;\n",
       "    }\n",
       "\n",
       "    .dataframe thead th {\n",
       "        text-align: right;\n",
       "    }\n",
       "</style>\n",
       "<table border=\"1\" class=\"dataframe\">\n",
       "  <thead>\n",
       "    <tr style=\"text-align: right;\">\n",
       "      <th></th>\n",
       "      <th>Number of members</th>\n",
       "    </tr>\n",
       "    <tr>\n",
       "      <th>Cluster Index</th>\n",
       "      <th></th>\n",
       "    </tr>\n",
       "  </thead>\n",
       "  <tbody>\n",
       "    <tr>\n",
       "      <th>0</th>\n",
       "      <td>381</td>\n",
       "    </tr>\n",
       "    <tr>\n",
       "      <th>1</th>\n",
       "      <td>534</td>\n",
       "    </tr>\n",
       "    <tr>\n",
       "      <th>2</th>\n",
       "      <td>761</td>\n",
       "    </tr>\n",
       "    <tr>\n",
       "      <th>3</th>\n",
       "      <td>340</td>\n",
       "    </tr>\n",
       "    <tr>\n",
       "      <th>4</th>\n",
       "      <td>401</td>\n",
       "    </tr>\n",
       "    <tr>\n",
       "      <th>5</th>\n",
       "      <td>359</td>\n",
       "    </tr>\n",
       "    <tr>\n",
       "      <th>6</th>\n",
       "      <td>434</td>\n",
       "    </tr>\n",
       "    <tr>\n",
       "      <th>7</th>\n",
       "      <td>314</td>\n",
       "    </tr>\n",
       "    <tr>\n",
       "      <th>8</th>\n",
       "      <td>617</td>\n",
       "    </tr>\n",
       "    <tr>\n",
       "      <th>9</th>\n",
       "      <td>321</td>\n",
       "    </tr>\n",
       "    <tr>\n",
       "      <th>10</th>\n",
       "      <td>281</td>\n",
       "    </tr>\n",
       "    <tr>\n",
       "      <th>11</th>\n",
       "      <td>257</td>\n",
       "    </tr>\n",
       "  </tbody>\n",
       "</table>\n",
       "</div>"
      ],
      "text/plain": [
       "               Number of members\n",
       "Cluster Index                   \n",
       "0                            381\n",
       "1                            534\n",
       "2                            761\n",
       "3                            340\n",
       "4                            401\n",
       "5                            359\n",
       "6                            434\n",
       "7                            314\n",
       "8                            617\n",
       "9                            321\n",
       "10                           281\n",
       "11                           257"
      ]
     },
     "execution_count": 72,
     "metadata": {},
     "output_type": "execute_result"
    }
   ],
   "source": [
    "agglo_model= AgglomerativeClustering(n_clusters=best_k_resnet_pca_v_measure, affinity='euclidean', linkage='ward')\n",
    "agglo_assignment_pca_resnet = agglo_model.fit_predict(test_data_2)\n",
    "\n",
    "agglo_counts_resnet = np.unique(agglo_assignment_pca_resnet, return_counts = True)\n",
    "pge_df = pd.DataFrame({'Cluster Index': agglo_counts_resnet[0], 'Number of members':agglo_counts_resnet[1]}).set_index('Cluster Index')\n",
    "\n",
    "\n",
    "print('AgglomerativeClustering-Resnet_PCA assignment counts')\n",
    "pge_df"
   ]
  },
  {
   "cell_type": "code",
   "execution_count": 73,
   "metadata": {},
   "outputs": [
    {
     "name": "stdout",
     "output_type": "stream",
     "text": [
      "Using UMAP:\n",
      "AgglomerativeClustering-PGE_UMAP assignment counts\n"
     ]
    },
    {
     "data": {
      "text/html": [
       "<div>\n",
       "<style scoped>\n",
       "    .dataframe tbody tr th:only-of-type {\n",
       "        vertical-align: middle;\n",
       "    }\n",
       "\n",
       "    .dataframe tbody tr th {\n",
       "        vertical-align: top;\n",
       "    }\n",
       "\n",
       "    .dataframe thead th {\n",
       "        text-align: right;\n",
       "    }\n",
       "</style>\n",
       "<table border=\"1\" class=\"dataframe\">\n",
       "  <thead>\n",
       "    <tr style=\"text-align: right;\">\n",
       "      <th></th>\n",
       "      <th>Number of members</th>\n",
       "    </tr>\n",
       "    <tr>\n",
       "      <th>Cluster Index</th>\n",
       "      <th></th>\n",
       "    </tr>\n",
       "  </thead>\n",
       "  <tbody>\n",
       "    <tr>\n",
       "      <th>0</th>\n",
       "      <td>386</td>\n",
       "    </tr>\n",
       "    <tr>\n",
       "      <th>1</th>\n",
       "      <td>458</td>\n",
       "    </tr>\n",
       "    <tr>\n",
       "      <th>2</th>\n",
       "      <td>536</td>\n",
       "    </tr>\n",
       "    <tr>\n",
       "      <th>3</th>\n",
       "      <td>225</td>\n",
       "    </tr>\n",
       "    <tr>\n",
       "      <th>4</th>\n",
       "      <td>484</td>\n",
       "    </tr>\n",
       "    <tr>\n",
       "      <th>5</th>\n",
       "      <td>311</td>\n",
       "    </tr>\n",
       "    <tr>\n",
       "      <th>6</th>\n",
       "      <td>121</td>\n",
       "    </tr>\n",
       "    <tr>\n",
       "      <th>7</th>\n",
       "      <td>134</td>\n",
       "    </tr>\n",
       "    <tr>\n",
       "      <th>8</th>\n",
       "      <td>315</td>\n",
       "    </tr>\n",
       "    <tr>\n",
       "      <th>9</th>\n",
       "      <td>369</td>\n",
       "    </tr>\n",
       "    <tr>\n",
       "      <th>10</th>\n",
       "      <td>468</td>\n",
       "    </tr>\n",
       "    <tr>\n",
       "      <th>11</th>\n",
       "      <td>145</td>\n",
       "    </tr>\n",
       "    <tr>\n",
       "      <th>12</th>\n",
       "      <td>104</td>\n",
       "    </tr>\n",
       "    <tr>\n",
       "      <th>13</th>\n",
       "      <td>213</td>\n",
       "    </tr>\n",
       "    <tr>\n",
       "      <th>14</th>\n",
       "      <td>294</td>\n",
       "    </tr>\n",
       "    <tr>\n",
       "      <th>15</th>\n",
       "      <td>338</td>\n",
       "    </tr>\n",
       "    <tr>\n",
       "      <th>16</th>\n",
       "      <td>97</td>\n",
       "    </tr>\n",
       "    <tr>\n",
       "      <th>17</th>\n",
       "      <td>2</td>\n",
       "    </tr>\n",
       "  </tbody>\n",
       "</table>\n",
       "</div>"
      ],
      "text/plain": [
       "               Number of members\n",
       "Cluster Index                   \n",
       "0                            386\n",
       "1                            458\n",
       "2                            536\n",
       "3                            225\n",
       "4                            484\n",
       "5                            311\n",
       "6                            121\n",
       "7                            134\n",
       "8                            315\n",
       "9                            369\n",
       "10                           468\n",
       "11                           145\n",
       "12                           104\n",
       "13                           213\n",
       "14                           294\n",
       "15                           338\n",
       "16                            97\n",
       "17                             2"
      ]
     },
     "execution_count": 73,
     "metadata": {},
     "output_type": "execute_result"
    }
   ],
   "source": [
    "print('Using UMAP:')\n",
    "agglo_model= AgglomerativeClustering(n_clusters=best_k_pge_umap_v_measure, affinity='euclidean', linkage='ward')\n",
    "agglo_assignment_pca_pge = agglo_model.fit_predict(test_data_1_2)\n",
    "\n",
    "# print('Number of clusters from Agglomerative-PGE: %d and from Agglomerative-ResNet: %d'%(np.unique(agglo_assignment_pca_pge).shape[0],np.unique(kmeans_assignment_resnet).shape[0]))\n",
    "\n",
    "agglo_counts_pge = np.unique(agglo_assignment_pca_pge, return_counts = True)\n",
    "pge_df = pd.DataFrame({'Cluster Index': agglo_counts_pge[0], 'Number of members':agglo_counts_pge[1]}).set_index('Cluster Index')\n",
    "\n",
    "\n",
    "print('AgglomerativeClustering-PGE_UMAP assignment counts')\n",
    "pge_df"
   ]
  },
  {
   "cell_type": "code",
   "execution_count": 74,
   "metadata": {},
   "outputs": [
    {
     "name": "stdout",
     "output_type": "stream",
     "text": [
      "AgglomerativeClustering-Resnet_UMAP assignment counts\n"
     ]
    },
    {
     "data": {
      "text/html": [
       "<div>\n",
       "<style scoped>\n",
       "    .dataframe tbody tr th:only-of-type {\n",
       "        vertical-align: middle;\n",
       "    }\n",
       "\n",
       "    .dataframe tbody tr th {\n",
       "        vertical-align: top;\n",
       "    }\n",
       "\n",
       "    .dataframe thead th {\n",
       "        text-align: right;\n",
       "    }\n",
       "</style>\n",
       "<table border=\"1\" class=\"dataframe\">\n",
       "  <thead>\n",
       "    <tr style=\"text-align: right;\">\n",
       "      <th></th>\n",
       "      <th>Number of members</th>\n",
       "    </tr>\n",
       "    <tr>\n",
       "      <th>Cluster Index</th>\n",
       "      <th></th>\n",
       "    </tr>\n",
       "  </thead>\n",
       "  <tbody>\n",
       "    <tr>\n",
       "      <th>0</th>\n",
       "      <td>1186</td>\n",
       "    </tr>\n",
       "    <tr>\n",
       "      <th>1</th>\n",
       "      <td>387</td>\n",
       "    </tr>\n",
       "    <tr>\n",
       "      <th>2</th>\n",
       "      <td>581</td>\n",
       "    </tr>\n",
       "    <tr>\n",
       "      <th>3</th>\n",
       "      <td>210</td>\n",
       "    </tr>\n",
       "    <tr>\n",
       "      <th>4</th>\n",
       "      <td>31</td>\n",
       "    </tr>\n",
       "    <tr>\n",
       "      <th>5</th>\n",
       "      <td>91</td>\n",
       "    </tr>\n",
       "    <tr>\n",
       "      <th>6</th>\n",
       "      <td>566</td>\n",
       "    </tr>\n",
       "    <tr>\n",
       "      <th>7</th>\n",
       "      <td>105</td>\n",
       "    </tr>\n",
       "    <tr>\n",
       "      <th>8</th>\n",
       "      <td>34</td>\n",
       "    </tr>\n",
       "    <tr>\n",
       "      <th>9</th>\n",
       "      <td>60</td>\n",
       "    </tr>\n",
       "    <tr>\n",
       "      <th>10</th>\n",
       "      <td>530</td>\n",
       "    </tr>\n",
       "    <tr>\n",
       "      <th>11</th>\n",
       "      <td>744</td>\n",
       "    </tr>\n",
       "    <tr>\n",
       "      <th>12</th>\n",
       "      <td>20</td>\n",
       "    </tr>\n",
       "    <tr>\n",
       "      <th>13</th>\n",
       "      <td>442</td>\n",
       "    </tr>\n",
       "    <tr>\n",
       "      <th>14</th>\n",
       "      <td>13</td>\n",
       "    </tr>\n",
       "  </tbody>\n",
       "</table>\n",
       "</div>"
      ],
      "text/plain": [
       "               Number of members\n",
       "Cluster Index                   \n",
       "0                           1186\n",
       "1                            387\n",
       "2                            581\n",
       "3                            210\n",
       "4                             31\n",
       "5                             91\n",
       "6                            566\n",
       "7                            105\n",
       "8                             34\n",
       "9                             60\n",
       "10                           530\n",
       "11                           744\n",
       "12                            20\n",
       "13                           442\n",
       "14                            13"
      ]
     },
     "execution_count": 74,
     "metadata": {},
     "output_type": "execute_result"
    }
   ],
   "source": [
    "agglo_model= AgglomerativeClustering(n_clusters=best_k_resnet_umap_v_measure, affinity='euclidean', linkage='ward')\n",
    "agglo_assignment_pca_resnet = agglo_model.fit_predict(test_data_2_2)\n",
    "\n",
    "agglo_counts_resnet = np.unique(agglo_assignment_pca_resnet, return_counts = True)\n",
    "pge_df = pd.DataFrame({'Cluster Index': agglo_counts_resnet[0], 'Number of members':agglo_counts_resnet[1]}).set_index('Cluster Index')\n",
    "\n",
    "\n",
    "print('AgglomerativeClustering-Resnet_UMAP assignment counts')\n",
    "pge_df"
   ]
  },
  {
   "cell_type": "markdown",
   "metadata": {},
   "source": [
    "###  In real life application of unsupervised learning:\n",
    "### 1. V-Measure is not a feasible measure to find the optimal number of clusters 'k' for a given dataset.\n",
    "### 2. The real labels are never available in practical applications.\n",
    "\n",
    "### Hence, we are considering the silhouette score to find the optimal number of clusters 'k' whose value ranges from -1 to 1. The optimal cluster 'k' where we get the best fit is provided below along with its members:"
   ]
  },
  {
   "cell_type": "code",
   "execution_count": 75,
   "metadata": {},
   "outputs": [],
   "source": [
    "best_k_pge_pca_silhouette_score = silhouette_scores_pca_pge.index(max(silhouette_scores_pca_pge))+2\n",
    "best_k_pge_umap_silhouette_score = silhouette_scores_umap_pge.index(max(silhouette_scores_umap_pge))+2\n",
    "best_k_resnet_pca_silhouette_score = silhouette_scores_pca_resnet.index(max(silhouette_scores_pca_resnet))+2\n",
    "best_k_resnet_umap_silhouette_score = silhouette_scores_umap_resnet.index(max(silhouette_scores_umap_resnet))+2"
   ]
  },
  {
   "cell_type": "code",
   "execution_count": 76,
   "metadata": {},
   "outputs": [
    {
     "name": "stdout",
     "output_type": "stream",
     "text": [
      "Using PCA:\n",
      "AgglomerativeClustering-PGE_PCA assignment counts\n"
     ]
    },
    {
     "data": {
      "text/html": [
       "<div>\n",
       "<style scoped>\n",
       "    .dataframe tbody tr th:only-of-type {\n",
       "        vertical-align: middle;\n",
       "    }\n",
       "\n",
       "    .dataframe tbody tr th {\n",
       "        vertical-align: top;\n",
       "    }\n",
       "\n",
       "    .dataframe thead th {\n",
       "        text-align: right;\n",
       "    }\n",
       "</style>\n",
       "<table border=\"1\" class=\"dataframe\">\n",
       "  <thead>\n",
       "    <tr style=\"text-align: right;\">\n",
       "      <th></th>\n",
       "      <th>Number of members</th>\n",
       "    </tr>\n",
       "    <tr>\n",
       "      <th>Cluster Index</th>\n",
       "      <th></th>\n",
       "    </tr>\n",
       "  </thead>\n",
       "  <tbody>\n",
       "    <tr>\n",
       "      <th>0</th>\n",
       "      <td>4201</td>\n",
       "    </tr>\n",
       "    <tr>\n",
       "      <th>1</th>\n",
       "      <td>799</td>\n",
       "    </tr>\n",
       "  </tbody>\n",
       "</table>\n",
       "</div>"
      ],
      "text/plain": [
       "               Number of members\n",
       "Cluster Index                   \n",
       "0                           4201\n",
       "1                            799"
      ]
     },
     "execution_count": 76,
     "metadata": {},
     "output_type": "execute_result"
    }
   ],
   "source": [
    "print('Using PCA:')\n",
    "agglo_model= AgglomerativeClustering(n_clusters=best_k_pge_pca_silhouette_score, affinity='euclidean', linkage='ward')\n",
    "agglo_assignment_pca_pge = agglo_model.fit_predict(test_data_1)\n",
    "\n",
    "# print('Number of clusters from Agglomerative-PGE: %d and from Agglomerative-ResNet: %d'%(np.unique(agglo_assignment_pca_pge).shape[0],np.unique(kmeans_assignment_resnet).shape[0]))\n",
    "\n",
    "agglo_counts_pge = np.unique(agglo_assignment_pca_pge, return_counts = True)\n",
    "pge_df = pd.DataFrame({'Cluster Index': agglo_counts_pge[0], 'Number of members':agglo_counts_pge[1]}).set_index('Cluster Index')\n",
    "\n",
    "\n",
    "print('AgglomerativeClustering-PGE_PCA assignment counts')\n",
    "pge_df"
   ]
  },
  {
   "cell_type": "code",
   "execution_count": 77,
   "metadata": {},
   "outputs": [
    {
     "name": "stdout",
     "output_type": "stream",
     "text": [
      "AgglomerativeClustering-Resnet_PCA assignment counts\n"
     ]
    },
    {
     "data": {
      "text/html": [
       "<div>\n",
       "<style scoped>\n",
       "    .dataframe tbody tr th:only-of-type {\n",
       "        vertical-align: middle;\n",
       "    }\n",
       "\n",
       "    .dataframe tbody tr th {\n",
       "        vertical-align: top;\n",
       "    }\n",
       "\n",
       "    .dataframe thead th {\n",
       "        text-align: right;\n",
       "    }\n",
       "</style>\n",
       "<table border=\"1\" class=\"dataframe\">\n",
       "  <thead>\n",
       "    <tr style=\"text-align: right;\">\n",
       "      <th></th>\n",
       "      <th>Number of members</th>\n",
       "    </tr>\n",
       "    <tr>\n",
       "      <th>Cluster Index</th>\n",
       "      <th></th>\n",
       "    </tr>\n",
       "  </thead>\n",
       "  <tbody>\n",
       "    <tr>\n",
       "      <th>0</th>\n",
       "      <td>3370</td>\n",
       "    </tr>\n",
       "    <tr>\n",
       "      <th>1</th>\n",
       "      <td>715</td>\n",
       "    </tr>\n",
       "    <tr>\n",
       "      <th>2</th>\n",
       "      <td>381</td>\n",
       "    </tr>\n",
       "    <tr>\n",
       "      <th>3</th>\n",
       "      <td>534</td>\n",
       "    </tr>\n",
       "  </tbody>\n",
       "</table>\n",
       "</div>"
      ],
      "text/plain": [
       "               Number of members\n",
       "Cluster Index                   \n",
       "0                           3370\n",
       "1                            715\n",
       "2                            381\n",
       "3                            534"
      ]
     },
     "execution_count": 77,
     "metadata": {},
     "output_type": "execute_result"
    }
   ],
   "source": [
    "agglo_model= AgglomerativeClustering(n_clusters=best_k_resnet_pca_silhouette_score, affinity='euclidean', linkage='ward')\n",
    "agglo_assignment_pca_resnet = agglo_model.fit_predict(test_data_2)\n",
    "\n",
    "agglo_counts_resnet = np.unique(agglo_assignment_pca_resnet, return_counts = True)\n",
    "pge_df = pd.DataFrame({'Cluster Index': agglo_counts_resnet[0], 'Number of members':agglo_counts_resnet[1]}).set_index('Cluster Index')\n",
    "\n",
    "\n",
    "print('AgglomerativeClustering-Resnet_PCA assignment counts')\n",
    "pge_df"
   ]
  },
  {
   "cell_type": "code",
   "execution_count": 78,
   "metadata": {},
   "outputs": [
    {
     "name": "stdout",
     "output_type": "stream",
     "text": [
      "Using UMAP:\n",
      "AgglomerativeClustering-PGE_UMAP assignment counts\n"
     ]
    },
    {
     "data": {
      "text/html": [
       "<div>\n",
       "<style scoped>\n",
       "    .dataframe tbody tr th:only-of-type {\n",
       "        vertical-align: middle;\n",
       "    }\n",
       "\n",
       "    .dataframe tbody tr th {\n",
       "        vertical-align: top;\n",
       "    }\n",
       "\n",
       "    .dataframe thead th {\n",
       "        text-align: right;\n",
       "    }\n",
       "</style>\n",
       "<table border=\"1\" class=\"dataframe\">\n",
       "  <thead>\n",
       "    <tr style=\"text-align: right;\">\n",
       "      <th></th>\n",
       "      <th>Number of members</th>\n",
       "    </tr>\n",
       "    <tr>\n",
       "      <th>Cluster Index</th>\n",
       "      <th></th>\n",
       "    </tr>\n",
       "  </thead>\n",
       "  <tbody>\n",
       "    <tr>\n",
       "      <th>0</th>\n",
       "      <td>2249</td>\n",
       "    </tr>\n",
       "    <tr>\n",
       "      <th>1</th>\n",
       "      <td>976</td>\n",
       "    </tr>\n",
       "    <tr>\n",
       "      <th>2</th>\n",
       "      <td>386</td>\n",
       "    </tr>\n",
       "    <tr>\n",
       "      <th>3</th>\n",
       "      <td>613</td>\n",
       "    </tr>\n",
       "    <tr>\n",
       "      <th>4</th>\n",
       "      <td>551</td>\n",
       "    </tr>\n",
       "    <tr>\n",
       "      <th>5</th>\n",
       "      <td>104</td>\n",
       "    </tr>\n",
       "    <tr>\n",
       "      <th>6</th>\n",
       "      <td>121</td>\n",
       "    </tr>\n",
       "  </tbody>\n",
       "</table>\n",
       "</div>"
      ],
      "text/plain": [
       "               Number of members\n",
       "Cluster Index                   \n",
       "0                           2249\n",
       "1                            976\n",
       "2                            386\n",
       "3                            613\n",
       "4                            551\n",
       "5                            104\n",
       "6                            121"
      ]
     },
     "execution_count": 78,
     "metadata": {},
     "output_type": "execute_result"
    }
   ],
   "source": [
    "print('Using UMAP:')\n",
    "agglo_model= AgglomerativeClustering(n_clusters=best_k_pge_umap_silhouette_score, affinity='euclidean', linkage='ward')\n",
    "agglo_assignment_pca_pge = agglo_model.fit_predict(test_data_1_2)\n",
    "\n",
    "# print('Number of clusters from Agglomerative-PGE: %d and from Agglomerative-ResNet: %d'%(np.unique(agglo_assignment_pca_pge).shape[0],np.unique(kmeans_assignment_resnet).shape[0]))\n",
    "\n",
    "agglo_counts_pge = np.unique(agglo_assignment_pca_pge, return_counts = True)\n",
    "pge_df = pd.DataFrame({'Cluster Index': agglo_counts_pge[0], 'Number of members':agglo_counts_pge[1]}).set_index('Cluster Index')\n",
    "\n",
    "\n",
    "print('AgglomerativeClustering-PGE_UMAP assignment counts')\n",
    "pge_df"
   ]
  },
  {
   "cell_type": "code",
   "execution_count": 79,
   "metadata": {},
   "outputs": [
    {
     "name": "stdout",
     "output_type": "stream",
     "text": [
      "AgglomerativeClustering-Resnet_UMAP assignment counts\n"
     ]
    },
    {
     "data": {
      "text/html": [
       "<div>\n",
       "<style scoped>\n",
       "    .dataframe tbody tr th:only-of-type {\n",
       "        vertical-align: middle;\n",
       "    }\n",
       "\n",
       "    .dataframe tbody tr th {\n",
       "        vertical-align: top;\n",
       "    }\n",
       "\n",
       "    .dataframe thead th {\n",
       "        text-align: right;\n",
       "    }\n",
       "</style>\n",
       "<table border=\"1\" class=\"dataframe\">\n",
       "  <thead>\n",
       "    <tr style=\"text-align: right;\">\n",
       "      <th></th>\n",
       "      <th>Number of members</th>\n",
       "    </tr>\n",
       "    <tr>\n",
       "      <th>Cluster Index</th>\n",
       "      <th></th>\n",
       "    </tr>\n",
       "  </thead>\n",
       "  <tbody>\n",
       "    <tr>\n",
       "      <th>0</th>\n",
       "      <td>3338</td>\n",
       "    </tr>\n",
       "    <tr>\n",
       "      <th>1</th>\n",
       "      <td>315</td>\n",
       "    </tr>\n",
       "    <tr>\n",
       "      <th>2</th>\n",
       "      <td>581</td>\n",
       "    </tr>\n",
       "    <tr>\n",
       "      <th>3</th>\n",
       "      <td>236</td>\n",
       "    </tr>\n",
       "    <tr>\n",
       "      <th>4</th>\n",
       "      <td>530</td>\n",
       "    </tr>\n",
       "  </tbody>\n",
       "</table>\n",
       "</div>"
      ],
      "text/plain": [
       "               Number of members\n",
       "Cluster Index                   \n",
       "0                           3338\n",
       "1                            315\n",
       "2                            581\n",
       "3                            236\n",
       "4                            530"
      ]
     },
     "execution_count": 79,
     "metadata": {},
     "output_type": "execute_result"
    }
   ],
   "source": [
    "agglo_model= AgglomerativeClustering(n_clusters=best_k_resnet_umap_silhouette_score, affinity='euclidean', linkage='ward')\n",
    "agglo_assignment_pca_resnet = agglo_model.fit_predict(test_data_2_2)\n",
    "\n",
    "agglo_counts_resnet = np.unique(agglo_assignment_pca_resnet, return_counts = True)\n",
    "pge_df = pd.DataFrame({'Cluster Index': agglo_counts_resnet[0], 'Number of members':agglo_counts_resnet[1]}).set_index('Cluster Index')\n",
    "\n",
    "\n",
    "print('AgglomerativeClustering-Resnet_UMAP assignment counts')\n",
    "pge_df"
   ]
  },
  {
   "cell_type": "markdown",
   "metadata": {},
   "source": [
    "# Tissue type percentage in two different clustering configurations for both projections."
   ]
  },
  {
   "cell_type": "markdown",
   "metadata": {},
   "source": [
    "## 1. PGE Features Set:"
   ]
  },
  {
   "cell_type": "code",
   "execution_count": 80,
   "metadata": {},
   "outputs": [
    {
     "name": "stdout",
     "output_type": "stream",
     "text": [
      "For PGE\n"
     ]
    },
    {
     "name": "stderr",
     "output_type": "stream",
     "text": [
      "<ipython-input-80-54af8f6c40ef>:70: UserWarning:\n",
      "\n",
      "Matplotlib is currently using module://ipykernel.pylab.backend_inline, which is a non-GUI backend, so cannot show the figure.\n",
      "\n"
     ]
    },
    {
     "data": {
      "image/png": "[encoded data removed]",
      "text/plain": [
       "<Figure size 1440x360 with 2 Axes>"
      ]
     },
     "metadata": {
      "needs_background": "light"
     },
     "output_type": "display_data"
    },
    {
     "data": {
      "image/png": "[encoded data removed]",
      "text/plain": [
       "<Figure size 1440x360 with 2 Axes>"
      ]
     },
     "metadata": {
      "needs_background": "light"
     },
     "output_type": "display_data"
    }
   ],
   "source": [
    "print(\"For PGE\")\n",
    "kmeans_model_pge = KMeans(n_clusters = Kmeans_best_k_pca_pge, random_state = 0) \n",
    "kmeans_assignment_pge = kmeans_model_pge.fit_predict(test_data_1)\n",
    "\n",
    "resulted_cluster_df = pd.DataFrame({'clusterID': kmeans_assignment_pge, 'type': labels_pge})\n",
    "label_proportion_df = resulted_cluster_df.groupby(['clusterID']).apply(lambda x: calculate_percent(x,'type')).rename(columns={'clusterID':'type_occurrence_percentage'}).reset_index()\n",
    "pivoted_label_proportion_df = pd.pivot_table(label_proportion_df, index = 'clusterID', columns = 'type', values = 'type_occurrence_percentage')\n",
    "\n",
    "\n",
    "f, axes = plt.subplots(1, 2, figsize=(20,5))\n",
    "number_of_tile_df = resulted_cluster_df.groupby('clusterID')['type'].count().reset_index().rename(columns={'type':'number_of_tile'})\n",
    "df_idx = pivoted_label_proportion_df.index\n",
    "(pivoted_label_proportion_df*100).loc[df_idx].plot.bar(stacked=True, ax = axes[0] )\n",
    "\n",
    "axes[0].set_ylabel('Percentage of tissue type')\n",
    "axes[0].legend(loc='upper right')\n",
    "axes[0].set_title('Cluster configuration by Kmeans-PCA')\n",
    "\n",
    "\n",
    "agglo_model= AgglomerativeClustering(n_clusters=best_k_pge_pca_silhouette_score, affinity='euclidean', linkage='ward')\n",
    "agglo_assignment_pca_pge = agglo_model.fit_predict(test_data_1)\n",
    "\n",
    "resulted_cluster_df = pd.DataFrame({'clusterID': agglo_assignment_pca_pge, 'type': labels_pge})\n",
    "label_proportion_df = resulted_cluster_df.groupby(['clusterID']).apply(lambda x: calculate_percent(x,'type')).rename(columns={'clusterID':'type_occurrence_percentage'}).reset_index()\n",
    "pivoted_label_proportion_df = pd.pivot_table(label_proportion_df, index = 'clusterID', columns = 'type', values = 'type_occurrence_percentage')\n",
    "\n",
    "\n",
    "number_of_tile_df = resulted_cluster_df.groupby('clusterID')['type'].count().reset_index().rename(columns={'type':'number_of_tile'})\n",
    "df_idx = pivoted_label_proportion_df.index\n",
    "(pivoted_label_proportion_df*100).loc[df_idx].plot.bar(stacked=True, ax = axes[1] )\n",
    "\n",
    "axes[1].set_ylabel('Percentage of tissue type')\n",
    "axes[1].legend(loc='upper right')\n",
    "axes[1].set_title('Cluster configuration by Hierarchial Clustering-PCA')\n",
    "\n",
    "\n",
    "kmeans_model_pge = KMeans(n_clusters = Kmeans_best_k_umap_pge, random_state = 0) \n",
    "kmeans_assignment_pge = kmeans_model_pge.fit_predict(test_data_1_2)\n",
    "\n",
    "resulted_cluster_df = pd.DataFrame({'clusterID': kmeans_assignment_pge, 'type': labels_pge})\n",
    "label_proportion_df = resulted_cluster_df.groupby(['clusterID']).apply(lambda x: calculate_percent(x,'type')).rename(columns={'clusterID':'type_occurrence_percentage'}).reset_index()\n",
    "pivoted_label_proportion_df = pd.pivot_table(label_proportion_df, index = 'clusterID', columns = 'type', values = 'type_occurrence_percentage')\n",
    "\n",
    "\n",
    "f, axes = plt.subplots(1, 2, figsize=(20,5))\n",
    "number_of_tile_df = resulted_cluster_df.groupby('clusterID')['type'].count().reset_index().rename(columns={'type':'number_of_tile'})\n",
    "df_idx = pivoted_label_proportion_df.index\n",
    "(pivoted_label_proportion_df*100).loc[df_idx].plot.bar(stacked=True, ax = axes[0] )\n",
    "\n",
    "axes[0].set_ylabel('Percentage of tissue type')\n",
    "axes[0].legend(loc='upper right')\n",
    "axes[0].set_title('Cluster configuration by Kmeans-UMAP')\n",
    "\n",
    "\n",
    "agglo_model= AgglomerativeClustering(n_clusters=best_k_pge_umap_silhouette_score, affinity='euclidean', linkage='ward')\n",
    "agglo_assignment_pca_pge = agglo_model.fit_predict(test_data_1_2)\n",
    "\n",
    "resulted_cluster_df = pd.DataFrame({'clusterID': agglo_assignment_pca_pge, 'type': labels_pge})\n",
    "label_proportion_df = resulted_cluster_df.groupby(['clusterID']).apply(lambda x: calculate_percent(x,'type')).rename(columns={'clusterID':'type_occurrence_percentage'}).reset_index()\n",
    "pivoted_label_proportion_df = pd.pivot_table(label_proportion_df, index = 'clusterID', columns = 'type', values = 'type_occurrence_percentage')\n",
    "\n",
    "\n",
    "number_of_tile_df = resulted_cluster_df.groupby('clusterID')['type'].count().reset_index().rename(columns={'type':'number_of_tile'})\n",
    "df_idx = pivoted_label_proportion_df.index\n",
    "(pivoted_label_proportion_df*100).loc[df_idx].plot.bar(stacked=True, ax = axes[1] )\n",
    "\n",
    "axes[1].set_ylabel('Percentage of tissue type')\n",
    "axes[1].legend(loc='upper right')\n",
    "axes[1].set_title('Cluster configuration by Hierarchial Clustering-UMAP')\n",
    "f.show() "
   ]
  },
  {
   "cell_type": "markdown",
   "metadata": {},
   "source": [
    "## 2. Resnet50 Features Set"
   ]
  },
  {
   "cell_type": "code",
   "execution_count": 81,
   "metadata": {},
   "outputs": [
    {
     "name": "stdout",
     "output_type": "stream",
     "text": [
      "For ResNet50\n"
     ]
    },
    {
     "name": "stderr",
     "output_type": "stream",
     "text": [
      "<ipython-input-81-e2261b8b0b93>:70: UserWarning:\n",
      "\n",
      "Matplotlib is currently using module://ipykernel.pylab.backend_inline, which is a non-GUI backend, so cannot show the figure.\n",
      "\n"
     ]
    },
    {
     "data": {
      "image/png": "[encoded data removed]",
      "text/plain": [
       "<Figure size 1440x360 with 2 Axes>"
      ]
     },
     "metadata": {
      "needs_background": "light"
     },
     "output_type": "display_data"
    },
    {
     "data": {
      "image/png": "[encoded data removed]",
      "text/plain": [
       "<Figure size 1440x360 with 2 Axes>"
      ]
     },
     "metadata": {
      "needs_background": "light"
     },
     "output_type": "display_data"
    }
   ],
   "source": [
    "print(\"For ResNet50\")\n",
    "kmeans_model_pge = KMeans(n_clusters = Kmeans_best_k_pca_resnet, random_state = 0) \n",
    "kmeans_assignment_resnet = kmeans_model_pge.fit_predict(test_data_2)\n",
    "\n",
    "resulted_cluster_df = pd.DataFrame({'clusterID': kmeans_assignment_resnet, 'type': labels_resnet})\n",
    "label_proportion_df = resulted_cluster_df.groupby(['clusterID']).apply(lambda x: calculate_percent(x,'type')).rename(columns={'clusterID':'type_occurrence_percentage'}).reset_index()\n",
    "pivoted_label_proportion_df = pd.pivot_table(label_proportion_df, index = 'clusterID', columns = 'type', values = 'type_occurrence_percentage')\n",
    "\n",
    "\n",
    "f, axes = plt.subplots(1, 2, figsize=(20,5))\n",
    "number_of_tile_df = resulted_cluster_df.groupby('clusterID')['type'].count().reset_index().rename(columns={'type':'number_of_tile'})\n",
    "df_idx = pivoted_label_proportion_df.index\n",
    "(pivoted_label_proportion_df*100).loc[df_idx].plot.bar(stacked=True, ax = axes[0] )\n",
    "\n",
    "axes[0].set_ylabel('Percentage of tissue type')\n",
    "axes[0].legend(loc='upper right')\n",
    "axes[0].set_title('Cluster configuration by Kmeans-PCA')\n",
    "\n",
    "\n",
    "agglo_model= AgglomerativeClustering(n_clusters=best_k_resnet_pca_silhouette_score, affinity='euclidean', linkage='ward')\n",
    "agglo_assignment_pca_resnet = agglo_model.fit_predict(test_data_2)\n",
    "\n",
    "resulted_cluster_df = pd.DataFrame({'clusterID': agglo_assignment_pca_resnet, 'type': labels_pge})\n",
    "label_proportion_df = resulted_cluster_df.groupby(['clusterID']).apply(lambda x: calculate_percent(x,'type')).rename(columns={'clusterID':'type_occurrence_percentage'}).reset_index()\n",
    "pivoted_label_proportion_df = pd.pivot_table(label_proportion_df, index = 'clusterID', columns = 'type', values = 'type_occurrence_percentage')\n",
    "\n",
    "\n",
    "number_of_tile_df = resulted_cluster_df.groupby('clusterID')['type'].count().reset_index().rename(columns={'type':'number_of_tile'})\n",
    "df_idx = pivoted_label_proportion_df.index\n",
    "(pivoted_label_proportion_df*100).loc[df_idx].plot.bar(stacked=True, ax = axes[1] )\n",
    "\n",
    "axes[1].set_ylabel('Percentage of tissue type')\n",
    "axes[1].legend(loc='upper right')\n",
    "axes[1].set_title('Cluster configuration by Hierarchial Clustering-PCA')\n",
    "\n",
    "\n",
    "kmeans_model_pge = KMeans(n_clusters = Kmeans_best_k_umap_resnet, random_state = 0) \n",
    "kmeans_assignment_resnet = kmeans_model_pge.fit_predict(test_data_2_2)\n",
    "\n",
    "resulted_cluster_df = pd.DataFrame({'clusterID': kmeans_assignment_resnet, 'type': labels_resnet})\n",
    "label_proportion_df = resulted_cluster_df.groupby(['clusterID']).apply(lambda x: calculate_percent(x,'type')).rename(columns={'clusterID':'type_occurrence_percentage'}).reset_index()\n",
    "pivoted_label_proportion_df = pd.pivot_table(label_proportion_df, index = 'clusterID', columns = 'type', values = 'type_occurrence_percentage')\n",
    "\n",
    "\n",
    "f, axes = plt.subplots(1, 2, figsize=(20,5))\n",
    "number_of_tile_df = resulted_cluster_df.groupby('clusterID')['type'].count().reset_index().rename(columns={'type':'number_of_tile'})\n",
    "df_idx = pivoted_label_proportion_df.index\n",
    "(pivoted_label_proportion_df*100).loc[df_idx].plot.bar(stacked=True, ax = axes[0] )\n",
    "\n",
    "axes[0].set_ylabel('Percentage of tissue type')\n",
    "axes[0].legend(loc='upper right')\n",
    "axes[0].set_title('Cluster configuration by Kmeans-UMAP')\n",
    "\n",
    "\n",
    "agglo_model= AgglomerativeClustering(n_clusters=best_k_resnet_umap_silhouette_score, affinity='euclidean', linkage='ward')\n",
    "agglo_assignment_pca_resnet = agglo_model.fit_predict(test_data_2_2)\n",
    "\n",
    "resulted_cluster_df = pd.DataFrame({'clusterID': agglo_assignment_pca_resnet, 'type': labels_resnet})\n",
    "label_proportion_df = resulted_cluster_df.groupby(['clusterID']).apply(lambda x: calculate_percent(x,'type')).rename(columns={'clusterID':'type_occurrence_percentage'}).reset_index()\n",
    "pivoted_label_proportion_df = pd.pivot_table(label_proportion_df, index = 'clusterID', columns = 'type', values = 'type_occurrence_percentage')\n",
    "\n",
    "\n",
    "number_of_tile_df = resulted_cluster_df.groupby('clusterID')['type'].count().reset_index().rename(columns={'type':'number_of_tile'})\n",
    "df_idx = pivoted_label_proportion_df.index\n",
    "(pivoted_label_proportion_df*100).loc[df_idx].plot.bar(stacked=True, ax = axes[1] )\n",
    "\n",
    "axes[1].set_ylabel('Percentage of tissue type')\n",
    "axes[1].legend(loc='upper right')\n",
    "axes[1].set_title('Cluster configuration by Hierarchial Clustering-UMAP')\n",
    "f.show() "
   ]
  },
  {
   "cell_type": "markdown",
   "metadata": {},
   "source": [
    "# Conclusion"
   ]
  },
  {
   "cell_type": "markdown",
   "metadata": {},
   "source": [
    "### We used PGE and Resnet50 feature set and used their respective PCA and UMAP projections for clustering using two different techniques:\n",
    "###    1. K-means clustering\n",
    "###    2. Hierarchical clustering(Agglomerative)\n",
    "\n",
    "### We tried using the elbow method in order to find the optimal cluster 'k'.But, since the elbow point is a naive method to find the optimal 'k'value. We used the silhouette scores to find the optimal 'k' for both the feature sets. \n",
    "\n",
    "\n",
    "### We also observed that the results were consistent for PGE dataset along both the projections.\n",
    "### But for resnet50 featureset, we could notice a slight variation for the UMAP projections between the two clustering techniques. \n",
    "\n",
    "### It is clear that we get better values of cluster 'k' using v-measure performance metric provided we have the ground truth labels present compared to the values of cluster 'k' obtained using silhouette score performance metric.\n",
    "\n",
    "### However, in real-life scenarios the ground truth labels are never available and thus, it is better to consider the silhouette score when measuring the performance of unsupervised machine learning techniques like clustering."
   ]
  },
  {
   "cell_type": "code",
   "execution_count": null,
   "metadata": {},
   "outputs": [],
   "source": []
  }
 ],
 "metadata": {
  "kernelspec": {
   "display_name": "Python 3",
   "language": "python",
   "name": "python3"
  },
  "language_info": {
   "codemirror_mode": {
    "name": "ipython",
    "version": 3
   },
   "file_extension": ".py",
   "mimetype": "text/x-python",
   "name": "python",
   "nbconvert_exporter": "python",
   "pygments_lexer": "ipython3",
   "version": "3.8.5"
  }
 },
 "nbformat": 4,
 "nbformat_minor": 2
}
